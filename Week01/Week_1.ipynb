{
  "nbformat": 4,
  "nbformat_minor": 0,
  "metadata": {
    "colab": {
      "provenance": []
    },
    "kernelspec": {
      "name": "python3",
      "display_name": "Python 3"
    },
    "language_info": {
      "name": "python"
    }
  },
  "cells": [
    {
      "cell_type": "markdown",
      "source": [
        "<div class=\"markdown-google-sans\">\n",
        "\n",
        "## **Let's go!**\n",
        "</div>\n",
        "\n",
        "The document you are reading is not a static web page, but an interactive environment called a **Colab notebook** that lets you write and execute code.\n",
        "\n",
        "For example, here is a **code cell** with a short Python script that computes a value, stores it in a variable, and prints the result:"
      ],
      "metadata": {
        "id": "oeVoMqFDJmzu"
      }
    },
    {
      "cell_type": "code",
      "source": [
        "seconds_in_a_day = 24 * 60 * 60\n",
        "print(f'One day has {seconds_in_a_day} seconds')"
      ],
      "metadata": {
        "colab": {
          "base_uri": "https://localhost:8080/"
        },
        "id": "Ukhf1_p3Jq6c",
        "outputId": "f1eb5dcc-cd47-4729-b9e8-c094ac28e6dc"
      },
      "execution_count": null,
      "outputs": [
        {
          "output_type": "stream",
          "name": "stdout",
          "text": [
            "One day has 86400 seconds\n"
          ]
        }
      ]
    },
    {
      "cell_type": "markdown",
      "source": [
        "To execute the code in the above cell, select it with a click and then either press the play button to the left of the code, or use the keyboard shortcut \"Command/Ctrl+Enter\". To edit the code, just click the cell and start editing.\n",
        "\n",
        "Variables that you define in one cell can later be used in other cells:"
      ],
      "metadata": {
        "id": "3EpBzzMbJuo5"
      }
    },
    {
      "cell_type": "code",
      "source": [
        "seconds_in_a_week = 7 * seconds_in_a_day\n",
        "print(f'One week has {seconds_in_a_week} seconds')\n",
        "\n",
        "seconds_in_a_month = 30 * seconds_in_a_week\n",
        "print(f'One month has {seconds_in_a_month} seconds')"
      ],
      "metadata": {
        "colab": {
          "base_uri": "https://localhost:8080/"
        },
        "id": "QOZRS1iQJ2aE",
        "outputId": "8e665efe-4b60-4dc0-8010-22eab1496816"
      },
      "execution_count": null,
      "outputs": [
        {
          "output_type": "stream",
          "name": "stdout",
          "text": [
            "One week has 604800 seconds\n",
            "One month has 18144000 seconds\n"
          ]
        }
      ]
    },
    {
      "cell_type": "markdown",
      "source": [
        "<div class=\"markdown-google-sans\">\n",
        "\n",
        "## **Creating graphs**\n",
        "</div>\n",
        "\n",
        "In the following example you will see how to create a simple bar graph using **matplotlib**"
      ],
      "metadata": {
        "id": "63TlsL13KWDE"
      }
    },
    {
      "cell_type": "code",
      "execution_count": null,
      "metadata": {
        "id": "i8MBN0bxe4-q"
      },
      "outputs": [],
      "source": [
        "import numpy as np\n",
        "import pandas as pd\n",
        "from matplotlib import pyplot as plt"
      ]
    },
    {
      "cell_type": "code",
      "source": [
        "time_data = {'Foosball':120, 'Studying':110, 'Games':70, 'Eating':28}\n",
        "social_media = list(time_data.keys())\n",
        "time_spend = list(time_data.values())"
      ],
      "metadata": {
        "id": "aE6vgvjtf4qp"
      },
      "execution_count": null,
      "outputs": []
    },
    {
      "cell_type": "code",
      "source": [
        "plt.figure(figsize=(5,5))\n",
        "plt.bar(social_media, time_spend, width=0.5)\n",
        "plt.xlabel('Activities')\n",
        "plt.ylabel('Time in Minutes')\n",
        "plt.title('Time spend on Activities at CODE campus')\n",
        "plt.show()"
      ],
      "metadata": {
        "colab": {
          "base_uri": "https://localhost:8080/",
          "height": 350
        },
        "id": "xuAZ7DmWgZ-J",
        "outputId": "13c9b1e1-ffda-4c0e-82dd-ed7843853adf"
      },
      "execution_count": null,
      "outputs": [
        {
          "output_type": "display_data",
          "data": {
            "text/plain": [
              "<Figure size 360x360 with 1 Axes>"
            ],
            "image/png": "[encoded data removed]"
          },
          "metadata": {
            "needs_background": "light"
          }
        }
      ]
    },
    {
      "cell_type": "markdown",
      "source": [
        "<div class=\"markdown-google-sans\">\n",
        "\n",
        "## **Task 1**\n",
        "\n",
        "**Please convert the bar chart above into a pie chart**\n",
        "</div>\n"
      ],
      "metadata": {
        "id": "pAyCpdc4HM64"
      }
    },
    {
      "cell_type": "code",
      "source": [
        "#Add your code here\n"
      ],
      "metadata": {
        "id": "bXSYrsMrIGA1"
      },
      "execution_count": null,
      "outputs": []
    },
    {
      "cell_type": "markdown",
      "source": [
        "Spolier: Solution\n",
        "<details>\n",
        "  <summary>View Solution</summary>\n",
        "    <code>\n",
        "      plt.figure(figsize =(10, 7)) <br>\n",
        "      plt.pie(time_spend, labels=social_media, autopct='%1.1f%%') <br>\n",
        "      plt.show()\n",
        "    </code>\n",
        "</details>"
      ],
      "metadata": {
        "id": "PVbddaZvIoHw"
      }
    },
    {
      "cell_type": "markdown",
      "source": [
        "<div class=\"markdown-google-sans\">\n",
        "\n",
        "## **Task 2**\n",
        "\n",
        "**Please create a bar out of the following data**\n",
        "</div>\n",
        " "
      ],
      "metadata": {
        "id": "iWhAWqH8LLMU"
      }
    },
    {
      "cell_type": "code",
      "source": [
        "{'below 40m²':16, '40-60m²':13, '60-80m²':13.1, '80-100m²':14, '100-120m²': 14, '120-140m²': 15.1, 'min. 140m²': 17.1}\n",
        "\n",
        "#Add your code here\n",
        "\n"
      ],
      "metadata": {
        "colab": {
          "base_uri": "https://localhost:8080/"
        },
        "id": "Byy4c40U4z5u",
        "outputId": "897464b7-8cc6-4bff-b008-df1df48401b7"
      },
      "execution_count": null,
      "outputs": [
        {
          "output_type": "execute_result",
          "data": {
            "text/plain": [
              "{'below 40m²': 16,\n",
              " '40-60m²': 13,\n",
              " '60-80m²': 13.1,\n",
              " '80-100m²': 14,\n",
              " '100-120m²': 14,\n",
              " '120-140m²': 15.1,\n",
              " 'min. 140m²': 17.1}"
            ]
          },
          "metadata": {},
          "execution_count": 2
        }
      ]
    },
    {
      "cell_type": "markdown",
      "source": [
        "Spolier: Solution\n",
        "<details>\n",
        "  <summary>View Solution</summary>\n",
        "    <code>\n",
        "      housing_data = {'below 40m²':16, '40-60m²':13, '60-80m²':13.1,     '80-100m²':14, '100-120m²': 14, '120-140m²': 15.1, 'min. 140m²': 17.1} <br>\n",
        "      meters = list(housing_data.keys()) <br>\n",
        "      size = list(housing_data.values()) <br>\n",
        "      plt.figure(figsize=(10,5)) <br>\n",
        "      plt.bar(meters, size, width=0.5) <br>\n",
        "      plt.xlabel('Living Space') <br>\n",
        "      plt.ylabel('Cold rent per m²') <br>\n",
        "      plt.title('Flat cold rent per m²') <br>\n",
        "      plt.show() <br>\n",
        "    </code>\n",
        "</details>"
      ],
      "metadata": {
        "id": "m_F3NvAtLtx_"
      }
    }
  ]
}