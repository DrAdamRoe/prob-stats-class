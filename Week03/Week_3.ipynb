{
  "nbformat": 4,
  "nbformat_minor": 0,
  "metadata": {
    "colab": {
      "provenance": [],
      "authorship_tag": "ABX9TyOvyIVVT0/n8oK71ovMxq8l"
    },
    "kernelspec": {
      "name": "python3",
      "display_name": "Python 3"
    },
    "language_info": {
      "name": "python"
    }
  },
  "cells": [
    {
      "cell_type": "markdown",
      "source": [
        "<div class=\"markdown-google-sans\">\n",
        "\n",
        "## **Glassdoor Pay Gap - Telling a story**\n",
        "</div>\n",
        "\n",
        "As we delve deeper into the issue of gender inequality in the workplace, it is important to examine the stark reality of the gender pay gap. Using data from Glassdoor's 2019 report, we will be taking a closer look at this pervasive issue and exploring potential solutions. Before we begin our analysis, let's first import the necessary packages and import the appropriate dataset to ensure accurate and thorough results."
      ],
      "metadata": {
        "id": "HujsRIZtrkte"
      }
    },
    {
      "cell_type": "code",
      "source": [
        "import numpy as np\n",
        "import pandas as pd\n",
        "import seaborn as sns\n",
        "from scipy import stats\n",
        "from matplotlib import pyplot as plt\n",
        "\n",
        "from plotly.offline import init_notebook_mode, iplot \n",
        "import plotly.figure_factory as ff\n",
        "import plotly.graph_objs as go\n",
        "import plotly.offline as py\n",
        "\n",
        "import warnings\n",
        "warnings.simplefilter(action='ignore', category=FutureWarning)\n",
        "\n",
        "from google.colab import files"
      ],
      "metadata": {
        "id": "qcUxtNCbywqV"
      },
      "execution_count": null,
      "outputs": []
    },
    {
      "cell_type": "code",
      "source": [
        "df = pd.read_csv('data.csv')\n",
        "df['totalPay'] = df['basePay'] + df['bonus']"
      ],
      "metadata": {
        "id": "H929xHwFzRuW"
      },
      "execution_count": null,
      "outputs": []
    },
    {
      "cell_type": "code",
      "source": [
        "df.head()"
      ],
      "metadata": {
        "colab": {
          "base_uri": "https://localhost:8080/",
          "height": 206
        },
        "id": "F1xuVFu1zfLE",
        "outputId": "c5d5cf82-3da9-47ad-e473-2c688f4b58f3"
      },
      "execution_count": null,
      "outputs": [
        {
          "output_type": "execute_result",
          "data": {
            "text/plain": [
              "              jobTitle  gender  age  perfEval      edu            dept  \\\n",
              "0     Graphic Designer  Female   18         5  College      Operations   \n",
              "1    Software Engineer    Male   21         5  College      Management   \n",
              "2  Warehouse Associate  Female   19         4      PhD  Administration   \n",
              "3    Software Engineer    Male   20         5  Masters           Sales   \n",
              "4     Graphic Designer    Male   26         5  Masters     Engineering   \n",
              "\n",
              "   seniority  basePay  bonus  totalPay  \n",
              "0          2    42363   9938     52301  \n",
              "1          5   108476  11128    119604  \n",
              "2          5    90208   9268     99476  \n",
              "3          4   108080  10154    118234  \n",
              "4          5    99464   9319    108783  "
            ],
            "text/html": [
              "\n",
              "  <div id=\"df-9fc3d399-bfb1-435b-b2b5-696d512a1ffa\">\n",
              "    <div class=\"colab-df-container\">\n",
              "      <div>\n",
              "<style scoped>\n",
              "    .dataframe tbody tr th:only-of-type {\n",
              "        vertical-align: middle;\n",
              "    }\n",
              "\n",
              "    .dataframe tbody tr th {\n",
              "        vertical-align: top;\n",
              "    }\n",
              "\n",
              "    .dataframe thead th {\n",
              "        text-align: right;\n",
              "    }\n",
              "</style>\n",
              "<table border=\"1\" class=\"dataframe\">\n",
              "  <thead>\n",
              "    <tr style=\"text-align: right;\">\n",
              "      <th></th>\n",
              "      <th>jobTitle</th>\n",
              "      <th>gender</th>\n",
              "      <th>age</th>\n",
              "      <th>perfEval</th>\n",
              "      <th>edu</th>\n",
              "      <th>dept</th>\n",
              "      <th>seniority</th>\n",
              "      <th>basePay</th>\n",
              "      <th>bonus</th>\n",
              "      <th>totalPay</th>\n",
              "    </tr>\n",
              "  </thead>\n",
              "  <tbody>\n",
              "    <tr>\n",
              "      <th>0</th>\n",
              "      <td>Graphic Designer</td>\n",
              "      <td>Female</td>\n",
              "      <td>18</td>\n",
              "      <td>5</td>\n",
              "      <td>College</td>\n",
              "      <td>Operations</td>\n",
              "      <td>2</td>\n",
              "      <td>42363</td>\n",
              "      <td>9938</td>\n",
              "      <td>52301</td>\n",
              "    </tr>\n",
              "    <tr>\n",
              "      <th>1</th>\n",
              "      <td>Software Engineer</td>\n",
              "      <td>Male</td>\n",
              "      <td>21</td>\n",
              "      <td>5</td>\n",
              "      <td>College</td>\n",
              "      <td>Management</td>\n",
              "      <td>5</td>\n",
              "      <td>108476</td>\n",
              "      <td>11128</td>\n",
              "      <td>119604</td>\n",
              "    </tr>\n",
              "    <tr>\n",
              "      <th>2</th>\n",
              "      <td>Warehouse Associate</td>\n",
              "      <td>Female</td>\n",
              "      <td>19</td>\n",
              "      <td>4</td>\n",
              "      <td>PhD</td>\n",
              "      <td>Administration</td>\n",
              "      <td>5</td>\n",
              "      <td>90208</td>\n",
              "      <td>9268</td>\n",
              "      <td>99476</td>\n",
              "    </tr>\n",
              "    <tr>\n",
              "      <th>3</th>\n",
              "      <td>Software Engineer</td>\n",
              "      <td>Male</td>\n",
              "      <td>20</td>\n",
              "      <td>5</td>\n",
              "      <td>Masters</td>\n",
              "      <td>Sales</td>\n",
              "      <td>4</td>\n",
              "      <td>108080</td>\n",
              "      <td>10154</td>\n",
              "      <td>118234</td>\n",
              "    </tr>\n",
              "    <tr>\n",
              "      <th>4</th>\n",
              "      <td>Graphic Designer</td>\n",
              "      <td>Male</td>\n",
              "      <td>26</td>\n",
              "      <td>5</td>\n",
              "      <td>Masters</td>\n",
              "      <td>Engineering</td>\n",
              "      <td>5</td>\n",
              "      <td>99464</td>\n",
              "      <td>9319</td>\n",
              "      <td>108783</td>\n",
              "    </tr>\n",
              "  </tbody>\n",
              "</table>\n",
              "</div>\n",
              "      <button class=\"colab-df-convert\" onclick=\"convertToInteractive('df-9fc3d399-bfb1-435b-b2b5-696d512a1ffa')\"\n",
              "              title=\"Convert this dataframe to an interactive table.\"\n",
              "              style=\"display:none;\">\n",
              "        \n",
              "  <svg xmlns=\"http://www.w3.org/2000/svg\" height=\"24px\"viewBox=\"0 0 24 24\"\n",
              "       width=\"24px\">\n",
              "    <path d=\"M0 0h24v24H0V0z\" fill=\"none\"/>\n",
              "    <path d=\"M18.56 5.44l.94 2.06.94-2.06 2.06-.94-2.06-.94-.94-2.06-.94 2.06-2.06.94zm-11 1L8.5 8.5l.94-2.06 2.06-.94-2.06-.94L8.5 2.5l-.94 2.06-2.06.94zm10 10l.94 2.06.94-2.06 2.06-.94-2.06-.94-.94-2.06-.94 2.06-2.06.94z\"/><path d=\"M17.41 7.96l-1.37-1.37c-.4-.4-.92-.59-1.43-.59-.52 0-1.04.2-1.43.59L10.3 9.45l-7.72 7.72c-.78.78-.78 2.05 0 2.83L4 21.41c.39.39.9.59 1.41.59.51 0 1.02-.2 1.41-.59l7.78-7.78 2.81-2.81c.8-.78.8-2.07 0-2.86zM5.41 20L4 18.59l7.72-7.72 1.47 1.35L5.41 20z\"/>\n",
              "  </svg>\n",
              "      </button>\n",
              "      \n",
              "  <style>\n",
              "    .colab-df-container {\n",
              "      display:flex;\n",
              "      flex-wrap:wrap;\n",
              "      gap: 12px;\n",
              "    }\n",
              "\n",
              "    .colab-df-convert {\n",
              "      background-color: #E8F0FE;\n",
              "      border: none;\n",
              "      border-radius: 50%;\n",
              "      cursor: pointer;\n",
              "      display: none;\n",
              "      fill: #1967D2;\n",
              "      height: 32px;\n",
              "      padding: 0 0 0 0;\n",
              "      width: 32px;\n",
              "    }\n",
              "\n",
              "    .colab-df-convert:hover {\n",
              "      background-color: #E2EBFA;\n",
              "      box-shadow: 0px 1px 2px rgba(60, 64, 67, 0.3), 0px 1px 3px 1px rgba(60, 64, 67, 0.15);\n",
              "      fill: #174EA6;\n",
              "    }\n",
              "\n",
              "    [theme=dark] .colab-df-convert {\n",
              "      background-color: #3B4455;\n",
              "      fill: #D2E3FC;\n",
              "    }\n",
              "\n",
              "    [theme=dark] .colab-df-convert:hover {\n",
              "      background-color: #434B5C;\n",
              "      box-shadow: 0px 1px 3px 1px rgba(0, 0, 0, 0.15);\n",
              "      filter: drop-shadow(0px 1px 2px rgba(0, 0, 0, 0.3));\n",
              "      fill: #FFFFFF;\n",
              "    }\n",
              "  </style>\n",
              "\n",
              "      <script>\n",
              "        const buttonEl =\n",
              "          document.querySelector('#df-9fc3d399-bfb1-435b-b2b5-696d512a1ffa button.colab-df-convert');\n",
              "        buttonEl.style.display =\n",
              "          google.colab.kernel.accessAllowed ? 'block' : 'none';\n",
              "\n",
              "        async function convertToInteractive(key) {\n",
              "          const element = document.querySelector('#df-9fc3d399-bfb1-435b-b2b5-696d512a1ffa');\n",
              "          const dataTable =\n",
              "            await google.colab.kernel.invokeFunction('convertToInteractive',\n",
              "                                                     [key], {});\n",
              "          if (!dataTable) return;\n",
              "\n",
              "          const docLinkHtml = 'Like what you see? Visit the ' +\n",
              "            '<a target=\"_blank\" href=https://colab.research.google.com/notebooks/data_table.ipynb>data table notebook</a>'\n",
              "            + ' to learn more about interactive tables.';\n",
              "          element.innerHTML = '';\n",
              "          dataTable['output_type'] = 'display_data';\n",
              "          await google.colab.output.renderOutput(dataTable, element);\n",
              "          const docLink = document.createElement('div');\n",
              "          docLink.innerHTML = docLinkHtml;\n",
              "          element.appendChild(docLink);\n",
              "        }\n",
              "      </script>\n",
              "    </div>\n",
              "  </div>\n",
              "  "
            ]
          },
          "metadata": {},
          "execution_count": 3
        }
      ]
    },
    {
      "cell_type": "markdown",
      "source": [
        "<div class=\"markdown-google-sans\">\n",
        "\n",
        "## **Pay Gap - At the first sight**\n",
        "</div>\n",
        "\n",
        "Let's take a look at the despcriptive statistics and the distribution."
      ],
      "metadata": {
        "id": "SSbWSm-bafsg"
      }
    },
    {
      "cell_type": "code",
      "source": [
        "n_female, n_male = df.groupby(['gender'])['jobTitle'].count()\n",
        "print(f'In our dataset are {n_female} women and {n_male} men')"
      ],
      "metadata": {
        "colab": {
          "base_uri": "https://localhost:8080/"
        },
        "id": "lsf7w-7ai_9X",
        "outputId": "de268bfd-8a3a-43f6-d002-003c721a78a7"
      },
      "execution_count": null,
      "outputs": [
        {
          "output_type": "stream",
          "name": "stdout",
          "text": [
            "In our dataset are 468 women and 532 men\n"
          ]
        }
      ]
    },
    {
      "cell_type": "code",
      "source": [
        "sns.boxplot(data=df, x='gender',y='basePay')"
      ],
      "metadata": {
        "colab": {
          "base_uri": "https://localhost:8080/",
          "height": 296
        },
        "id": "ruhjPK0z1PLD",
        "outputId": "383f88d4-1e70-4ba4-eef4-3b226071b7d1"
      },
      "execution_count": null,
      "outputs": [
        {
          "output_type": "execute_result",
          "data": {
            "text/plain": [
              "<matplotlib.axes._subplots.AxesSubplot at 0x7f59db809190>"
            ]
          },
          "metadata": {},
          "execution_count": 5
        },
        {
          "output_type": "display_data",
          "data": {
            "text/plain": [
              "<Figure size 432x288 with 1 Axes>"
            ],
            "image/png": "[encoded data removed]"
          },
          "metadata": {
            "needs_background": "light"
          }
        }
      ]
    },
    {
      "cell_type": "code",
      "source": [
        "df.groupby(['jobTitle'])['basePay'].mean().sort_values()"
      ],
      "metadata": {
        "colab": {
          "base_uri": "https://localhost:8080/"
        },
        "id": "qsZn8ZZikwns",
        "outputId": "712de871-ce57-419d-9771-57e54fd300df"
      },
      "execution_count": null,
      "outputs": [
        {
          "output_type": "execute_result",
          "data": {
            "text/plain": [
              "jobTitle\n",
              "Marketing Associate     76656.372881\n",
              "Driver                  89382.208791\n",
              "Warehouse Associate     89556.122222\n",
              "IT                      90737.468750\n",
              "Graphic Designer        90892.530612\n",
              "Data Scientist          92433.420561\n",
              "Sales Associate         93396.489362\n",
              "Financial Analyst       94996.878505\n",
              "Software Engineer      105514.935780\n",
              "Manager                125329.600000\n",
              "Name: basePay, dtype: float64"
            ]
          },
          "metadata": {},
          "execution_count": 6
        }
      ]
    },
    {
      "cell_type": "markdown",
      "source": [
        "What field of study should you chose at CODE Berlin?"
      ],
      "metadata": {
        "id": "g0TadNClk4C5"
      }
    },
    {
      "cell_type": "code",
      "source": [
        "female, men = df.groupby(['gender'])['basePay'].mean()\n",
        "print(f'On average Women earn {int(female)}$ and men earn {int(men)}$\\nMen earn {round(((men/female)-1)*100, 2)}% more then women')"
      ],
      "metadata": {
        "colab": {
          "base_uri": "https://localhost:8080/"
        },
        "id": "jumxxpy931W3",
        "outputId": "febb9d5a-084f-40b6-a3cb-305c88f1f94d"
      },
      "execution_count": null,
      "outputs": [
        {
          "output_type": "stream",
          "name": "stdout",
          "text": [
            "On average Women earn 89942$ and men earn 98457$\n",
            "Men earn 9.47% more then women\n"
          ]
        }
      ]
    },
    {
      "cell_type": "markdown",
      "source": [
        "That's a pretty big gap. Men earn on average almost 10% more then women!\n",
        "\n",
        "But as good statisticians we know that the income is not well distributed and the mean is also influenced by outliers. for this reason we're calculating the truncated mean by cutting off the upper and lower 5% based on the base income."
      ],
      "metadata": {
        "id": "DfRke6tjkwo4"
      }
    },
    {
      "cell_type": "code",
      "source": [
        "df2 = df[df.basePay < np.percentile(df.basePay,95)]\n",
        "df2 = df2[df2.basePay > np.percentile(df2.basePay,5)]\n",
        "\n",
        "female, men = df2.groupby(['gender'])['basePay'].mean()\n",
        "print(f'On average Women earn {int(female)}$ and men earn {int(men)}$\\nMen earn {round(((men/female)-1)*100, 2)}% more then women')"
      ],
      "metadata": {
        "colab": {
          "base_uri": "https://localhost:8080/"
        },
        "id": "TeQZL8D-iOjB",
        "outputId": "175e7ae1-e748-4449-f064-814b33ec4262"
      },
      "execution_count": null,
      "outputs": [
        {
          "output_type": "stream",
          "name": "stdout",
          "text": [
            "On average Women earn 91628$ and men earn 96256$\n",
            "Men earn 5.05% more then women\n"
          ]
        }
      ]
    },
    {
      "cell_type": "code",
      "source": [
        "n_female, n_male = df2.groupby(['gender'])['jobTitle'].count()\n",
        "print(f'In our new and cleaned dataset are {n_female} women and {n_male} men')"
      ],
      "metadata": {
        "colab": {
          "base_uri": "https://localhost:8080/"
        },
        "id": "AwWHUXBdjVn4",
        "outputId": "3638d79b-a567-4a82-b4fc-2a16c2b0b9f8"
      },
      "execution_count": null,
      "outputs": [
        {
          "output_type": "stream",
          "name": "stdout",
          "text": [
            "In our new and cleaned dataset are 424 women and 478 men\n"
          ]
        }
      ]
    },
    {
      "cell_type": "markdown",
      "source": [
        "Just by removing the the upper and lower 5% payees the pay gap went down by 4.4%. Since the **mean** heavilly depends on extreme values it makes sense to use the **truncated mean**. \n",
        "\n",
        "What does it tell us? \n",
        " \n",
        "Lets have a closer look at the distribution of the base pay.\n",
        "\n",
        "On the left side we see the old distribution without the upper and lower 5% removed. From the graph we can see that there are more women receiving a lower pay than men. Even after removing the upper and lower 5% the effect is still visible as we can see in the right graph."
      ],
      "metadata": {
        "id": "nLU-b35DiPr_"
      }
    },
    {
      "cell_type": "code",
      "source": [
        "fig, ax = plt.subplots(1, 2, figsize=(16, 8))\n",
        "palette_binary_2 = sns.color_palette('Set1', 2)\n",
        "palette_binary_3 = sns.color_palette('Set2', 2)\n",
        "sns.kdeplot(data=df, x='basePay', hue='gender', fill=True, palette=palette_binary_3, ax=ax[0])\n",
        "sns.kdeplot(data=df2, x='basePay', hue='gender', fill=True, palette=palette_binary_2, ax=ax[1])\n",
        "\n",
        "sns.despine()\n",
        "plt.show()"
      ],
      "metadata": {
        "colab": {
          "base_uri": "https://localhost:8080/",
          "height": 508
        },
        "id": "5NFpnu9MnRsE",
        "outputId": "2c8c2c2d-7c57-4127-a6a5-20ba36aeb6f4"
      },
      "execution_count": null,
      "outputs": [
        {
          "output_type": "display_data",
          "data": {
            "text/plain": [
              "<Figure size 1152x576 with 2 Axes>"
            ],
            "image/png": "[encoded data removed]"
          },
          "metadata": {
            "needs_background": "light"
          }
        }
      ]
    },
    {
      "cell_type": "code",
      "source": [
        "df2.groupby(['jobTitle', 'gender'])['basePay'].mean()"
      ],
      "metadata": {
        "colab": {
          "base_uri": "https://localhost:8080/"
        },
        "id": "w9Hnq_zvdmIX",
        "outputId": "1ac335be-1508-4262-a0c2-08b735caec52"
      },
      "execution_count": null,
      "outputs": [
        {
          "output_type": "execute_result",
          "data": {
            "text/plain": [
              "jobTitle             gender\n",
              "Data Scientist       Female     95147.791667\n",
              "                     Male       90649.346154\n",
              "Driver               Female     87848.644444\n",
              "                     Male       93026.357143\n",
              "Financial Analyst    Female     96649.022727\n",
              "                     Male       93789.859649\n",
              "Graphic Designer     Female     94428.521739\n",
              "                     Male       92603.404255\n",
              "IT                   Female     93598.042553\n",
              "                     Male       92277.976190\n",
              "Manager              Female    113942.454545\n",
              "                     Male      114174.307692\n",
              "Marketing Associate  Female     82618.382022\n",
              "                     Male       84748.000000\n",
              "Sales Associate      Female     91617.390244\n",
              "                     Male       97826.782609\n",
              "Software Engineer    Female     94701.000000\n",
              "                     Male      100197.125000\n",
              "Warehouse Associate  Female     93659.422222\n",
              "                     Male       88420.976190\n",
              "Name: basePay, dtype: float64"
            ]
          },
          "metadata": {},
          "execution_count": 11
        }
      ]
    },
    {
      "cell_type": "markdown",
      "source": [
        "By looking at the data above we see that women and men are almost equally payed in a manager position. The clear difference seems to be in software engineering group where men get payed 6,000$ more on average.\n",
        "\n",
        "In the next step we should have a closer look is the sex ratio in this dataset depending on the job title."
      ],
      "metadata": {
        "id": "yWvknYXznxoY"
      }
    },
    {
      "cell_type": "code",
      "source": [
        "title = pd.get_dummies(df, columns=['gender']).groupby('jobTitle').sum()\n",
        "\n",
        "female = go.Pie(labels=title.index, values=title['gender_Female'], name=\"Female\", hole=0.5, domain={'x': [0,0.46]})\n",
        "male = go.Pie(labels=title.index,values=title['gender_Male'],name=\"Male\",hole=0.5,domain={'x': [0.52,1]})\n",
        "\n",
        "layout = dict(title = 'Job Distribution', font=dict(size=14), legend=dict(orientation=\"h\"),\n",
        "              annotations = [dict(x=0.2, y=0.5, text='Female', showarrow=False, font=dict(size=20)),\n",
        "                             dict(x=0.8, y=0.5, text='Male', showarrow=False, font=dict(size=20)) ])\n",
        "\n",
        "fig = dict(data=[female, male], layout=layout)\n",
        "py.iplot(fig)"
      ],
      "metadata": {
        "colab": {
          "base_uri": "https://localhost:8080/",
          "height": 542
        },
        "id": "PUzotSj1e7LO",
        "outputId": "2e364e74-915f-4abb-ca87-840d4583a86e"
      },
      "execution_count": null,
      "outputs": [
        {
          "output_type": "display_data",
          "data": {
            "text/html": [
              "<html>\n",
              "<head><meta charset=\"utf-8\" /></head>\n",
              "<body>\n",
              "    <div>            <script src=\"https://cdnjs.cloudflare.com/ajax/libs/mathjax/2.7.5/MathJax.js?config=TeX-AMS-MML_SVG\"></script><script type=\"text/javascript\">if (window.MathJax) {MathJax.Hub.Config({SVG: {font: \"STIX-Web\"}});}</script>                <script type=\"text/javascript\">window.PlotlyConfig = {MathJaxConfig: 'local'};</script>\n",
              "        <script src=\"https://cdn.plot.ly/plotly-2.8.3.min.js\"></script>                <div id=\"89440fe2-cd6b-45c6-a981-7b8409e2e550\" class=\"plotly-graph-div\" style=\"height:525px; width:100%;\"></div>            <script type=\"text/javascript\">                                    window.PLOTLYENV=window.PLOTLYENV || {};                                    if (document.getElementById(\"89440fe2-cd6b-45c6-a981-7b8409e2e550\")) {                    Plotly.newPlot(                        \"89440fe2-cd6b-45c6-a981-7b8409e2e550\",                        [{\"domain\":{\"x\":[0,0.46]},\"hole\":0.5,\"labels\":[\"Data Scientist\",\"Driver\",\"Financial Analyst\",\"Graphic Designer\",\"IT\",\"Manager\",\"Marketing Associate\",\"Sales Associate\",\"Software Engineer\",\"Warehouse Associate\"],\"name\":\"Female\",\"values\":[53,46,49,48,50,18,107,43,8,46],\"type\":\"pie\"},{\"domain\":{\"x\":[0.52,1]},\"hole\":0.5,\"labels\":[\"Data Scientist\",\"Driver\",\"Financial Analyst\",\"Graphic Designer\",\"IT\",\"Manager\",\"Marketing Associate\",\"Sales Associate\",\"Software Engineer\",\"Warehouse Associate\"],\"name\":\"Male\",\"values\":[54,45,58,50,46,72,11,51,101,44],\"type\":\"pie\"}],                        {\"annotations\":[{\"font\":{\"size\":20},\"showarrow\":false,\"text\":\"Female\",\"x\":0.2,\"y\":0.5},{\"font\":{\"size\":20},\"showarrow\":false,\"text\":\"Male\",\"x\":0.8,\"y\":0.5}],\"font\":{\"size\":14},\"legend\":{\"orientation\":\"h\"},\"template\":{\"data\":{\"barpolar\":[{\"marker\":{\"line\":{\"color\":\"#E5ECF6\",\"width\":0.5},\"pattern\":{\"fillmode\":\"overlay\",\"size\":10,\"solidity\":0.2}},\"type\":\"barpolar\"}],\"bar\":[{\"error_x\":{\"color\":\"#2a3f5f\"},\"error_y\":{\"color\":\"#2a3f5f\"},\"marker\":{\"line\":{\"color\":\"#E5ECF6\",\"width\":0.5},\"pattern\":{\"fillmode\":\"overlay\",\"size\":10,\"solidity\":0.2}},\"type\":\"bar\"}],\"carpet\":[{\"aaxis\":{\"endlinecolor\":\"#2a3f5f\",\"gridcolor\":\"white\",\"linecolor\":\"white\",\"minorgridcolor\":\"white\",\"startlinecolor\":\"#2a3f5f\"},\"baxis\":{\"endlinecolor\":\"#2a3f5f\",\"gridcolor\":\"white\",\"linecolor\":\"white\",\"minorgridcolor\":\"white\",\"startlinecolor\":\"#2a3f5f\"},\"type\":\"carpet\"}],\"choropleth\":[{\"colorbar\":{\"outlinewidth\":0,\"ticks\":\"\"},\"type\":\"choropleth\"}],\"contourcarpet\":[{\"colorbar\":{\"outlinewidth\":0,\"ticks\":\"\"},\"type\":\"contourcarpet\"}],\"contour\":[{\"colorbar\":{\"outlinewidth\":0,\"ticks\":\"\"},\"colorscale\":[[0.0,\"#0d0887\"],[0.1111111111111111,\"#46039f\"],[0.2222222222222222,\"#7201a8\"],[0.3333333333333333,\"#9c179e\"],[0.4444444444444444,\"#bd3786\"],[0.5555555555555556,\"#d8576b\"],[0.6666666666666666,\"#ed7953\"],[0.7777777777777778,\"#fb9f3a\"],[0.8888888888888888,\"#fdca26\"],[1.0,\"#f0f921\"]],\"type\":\"contour\"}],\"heatmapgl\":[{\"colorbar\":{\"outlinewidth\":0,\"ticks\":\"\"},\"colorscale\":[[0.0,\"#0d0887\"],[0.1111111111111111,\"#46039f\"],[0.2222222222222222,\"#7201a8\"],[0.3333333333333333,\"#9c179e\"],[0.4444444444444444,\"#bd3786\"],[0.5555555555555556,\"#d8576b\"],[0.6666666666666666,\"#ed7953\"],[0.7777777777777778,\"#fb9f3a\"],[0.8888888888888888,\"#fdca26\"],[1.0,\"#f0f921\"]],\"type\":\"heatmapgl\"}],\"heatmap\":[{\"colorbar\":{\"outlinewidth\":0,\"ticks\":\"\"},\"colorscale\":[[0.0,\"#0d0887\"],[0.1111111111111111,\"#46039f\"],[0.2222222222222222,\"#7201a8\"],[0.3333333333333333,\"#9c179e\"],[0.4444444444444444,\"#bd3786\"],[0.5555555555555556,\"#d8576b\"],[0.6666666666666666,\"#ed7953\"],[0.7777777777777778,\"#fb9f3a\"],[0.8888888888888888,\"#fdca26\"],[1.0,\"#f0f921\"]],\"type\":\"heatmap\"}],\"histogram2dcontour\":[{\"colorbar\":{\"outlinewidth\":0,\"ticks\":\"\"},\"colorscale\":[[0.0,\"#0d0887\"],[0.1111111111111111,\"#46039f\"],[0.2222222222222222,\"#7201a8\"],[0.3333333333333333,\"#9c179e\"],[0.4444444444444444,\"#bd3786\"],[0.5555555555555556,\"#d8576b\"],[0.6666666666666666,\"#ed7953\"],[0.7777777777777778,\"#fb9f3a\"],[0.8888888888888888,\"#fdca26\"],[1.0,\"#f0f921\"]],\"type\":\"histogram2dcontour\"}],\"histogram2d\":[{\"colorbar\":{\"outlinewidth\":0,\"ticks\":\"\"},\"colorscale\":[[0.0,\"#0d0887\"],[0.1111111111111111,\"#46039f\"],[0.2222222222222222,\"#7201a8\"],[0.3333333333333333,\"#9c179e\"],[0.4444444444444444,\"#bd3786\"],[0.5555555555555556,\"#d8576b\"],[0.6666666666666666,\"#ed7953\"],[0.7777777777777778,\"#fb9f3a\"],[0.8888888888888888,\"#fdca26\"],[1.0,\"#f0f921\"]],\"type\":\"histogram2d\"}],\"histogram\":[{\"marker\":{\"pattern\":{\"fillmode\":\"overlay\",\"size\":10,\"solidity\":0.2}},\"type\":\"histogram\"}],\"mesh3d\":[{\"colorbar\":{\"outlinewidth\":0,\"ticks\":\"\"},\"type\":\"mesh3d\"}],\"parcoords\":[{\"line\":{\"colorbar\":{\"outlinewidth\":0,\"ticks\":\"\"}},\"type\":\"parcoords\"}],\"pie\":[{\"automargin\":true,\"type\":\"pie\"}],\"scatter3d\":[{\"line\":{\"colorbar\":{\"outlinewidth\":0,\"ticks\":\"\"}},\"marker\":{\"colorbar\":{\"outlinewidth\":0,\"ticks\":\"\"}},\"type\":\"scatter3d\"}],\"scattercarpet\":[{\"marker\":{\"colorbar\":{\"outlinewidth\":0,\"ticks\":\"\"}},\"type\":\"scattercarpet\"}],\"scattergeo\":[{\"marker\":{\"colorbar\":{\"outlinewidth\":0,\"ticks\":\"\"}},\"type\":\"scattergeo\"}],\"scattergl\":[{\"marker\":{\"colorbar\":{\"outlinewidth\":0,\"ticks\":\"\"}},\"type\":\"scattergl\"}],\"scattermapbox\":[{\"marker\":{\"colorbar\":{\"outlinewidth\":0,\"ticks\":\"\"}},\"type\":\"scattermapbox\"}],\"scatterpolargl\":[{\"marker\":{\"colorbar\":{\"outlinewidth\":0,\"ticks\":\"\"}},\"type\":\"scatterpolargl\"}],\"scatterpolar\":[{\"marker\":{\"colorbar\":{\"outlinewidth\":0,\"ticks\":\"\"}},\"type\":\"scatterpolar\"}],\"scatter\":[{\"marker\":{\"colorbar\":{\"outlinewidth\":0,\"ticks\":\"\"}},\"type\":\"scatter\"}],\"scatterternary\":[{\"marker\":{\"colorbar\":{\"outlinewidth\":0,\"ticks\":\"\"}},\"type\":\"scatterternary\"}],\"surface\":[{\"colorbar\":{\"outlinewidth\":0,\"ticks\":\"\"},\"colorscale\":[[0.0,\"#0d0887\"],[0.1111111111111111,\"#46039f\"],[0.2222222222222222,\"#7201a8\"],[0.3333333333333333,\"#9c179e\"],[0.4444444444444444,\"#bd3786\"],[0.5555555555555556,\"#d8576b\"],[0.6666666666666666,\"#ed7953\"],[0.7777777777777778,\"#fb9f3a\"],[0.8888888888888888,\"#fdca26\"],[1.0,\"#f0f921\"]],\"type\":\"surface\"}],\"table\":[{\"cells\":{\"fill\":{\"color\":\"#EBF0F8\"},\"line\":{\"color\":\"white\"}},\"header\":{\"fill\":{\"color\":\"#C8D4E3\"},\"line\":{\"color\":\"white\"}},\"type\":\"table\"}]},\"layout\":{\"annotationdefaults\":{\"arrowcolor\":\"#2a3f5f\",\"arrowhead\":0,\"arrowwidth\":1},\"autotypenumbers\":\"strict\",\"coloraxis\":{\"colorbar\":{\"outlinewidth\":0,\"ticks\":\"\"}},\"colorscale\":{\"diverging\":[[0,\"#8e0152\"],[0.1,\"#c51b7d\"],[0.2,\"#de77ae\"],[0.3,\"#f1b6da\"],[0.4,\"#fde0ef\"],[0.5,\"#f7f7f7\"],[0.6,\"#e6f5d0\"],[0.7,\"#b8e186\"],[0.8,\"#7fbc41\"],[0.9,\"#4d9221\"],[1,\"#276419\"]],\"sequential\":[[0.0,\"#0d0887\"],[0.1111111111111111,\"#46039f\"],[0.2222222222222222,\"#7201a8\"],[0.3333333333333333,\"#9c179e\"],[0.4444444444444444,\"#bd3786\"],[0.5555555555555556,\"#d8576b\"],[0.6666666666666666,\"#ed7953\"],[0.7777777777777778,\"#fb9f3a\"],[0.8888888888888888,\"#fdca26\"],[1.0,\"#f0f921\"]],\"sequentialminus\":[[0.0,\"#0d0887\"],[0.1111111111111111,\"#46039f\"],[0.2222222222222222,\"#7201a8\"],[0.3333333333333333,\"#9c179e\"],[0.4444444444444444,\"#bd3786\"],[0.5555555555555556,\"#d8576b\"],[0.6666666666666666,\"#ed7953\"],[0.7777777777777778,\"#fb9f3a\"],[0.8888888888888888,\"#fdca26\"],[1.0,\"#f0f921\"]]},\"colorway\":[\"#636efa\",\"#EF553B\",\"#00cc96\",\"#ab63fa\",\"#FFA15A\",\"#19d3f3\",\"#FF6692\",\"#B6E880\",\"#FF97FF\",\"#FECB52\"],\"font\":{\"color\":\"#2a3f5f\"},\"geo\":{\"bgcolor\":\"white\",\"lakecolor\":\"white\",\"landcolor\":\"#E5ECF6\",\"showlakes\":true,\"showland\":true,\"subunitcolor\":\"white\"},\"hoverlabel\":{\"align\":\"left\"},\"hovermode\":\"closest\",\"mapbox\":{\"style\":\"light\"},\"paper_bgcolor\":\"white\",\"plot_bgcolor\":\"#E5ECF6\",\"polar\":{\"angularaxis\":{\"gridcolor\":\"white\",\"linecolor\":\"white\",\"ticks\":\"\"},\"bgcolor\":\"#E5ECF6\",\"radialaxis\":{\"gridcolor\":\"white\",\"linecolor\":\"white\",\"ticks\":\"\"}},\"scene\":{\"xaxis\":{\"backgroundcolor\":\"#E5ECF6\",\"gridcolor\":\"white\",\"gridwidth\":2,\"linecolor\":\"white\",\"showbackground\":true,\"ticks\":\"\",\"zerolinecolor\":\"white\"},\"yaxis\":{\"backgroundcolor\":\"#E5ECF6\",\"gridcolor\":\"white\",\"gridwidth\":2,\"linecolor\":\"white\",\"showbackground\":true,\"ticks\":\"\",\"zerolinecolor\":\"white\"},\"zaxis\":{\"backgroundcolor\":\"#E5ECF6\",\"gridcolor\":\"white\",\"gridwidth\":2,\"linecolor\":\"white\",\"showbackground\":true,\"ticks\":\"\",\"zerolinecolor\":\"white\"}},\"shapedefaults\":{\"line\":{\"color\":\"#2a3f5f\"}},\"ternary\":{\"aaxis\":{\"gridcolor\":\"white\",\"linecolor\":\"white\",\"ticks\":\"\"},\"baxis\":{\"gridcolor\":\"white\",\"linecolor\":\"white\",\"ticks\":\"\"},\"bgcolor\":\"#E5ECF6\",\"caxis\":{\"gridcolor\":\"white\",\"linecolor\":\"white\",\"ticks\":\"\"}},\"title\":{\"x\":0.05},\"xaxis\":{\"automargin\":true,\"gridcolor\":\"white\",\"linecolor\":\"white\",\"ticks\":\"\",\"title\":{\"standoff\":15},\"zerolinecolor\":\"white\",\"zerolinewidth\":2},\"yaxis\":{\"automargin\":true,\"gridcolor\":\"white\",\"linecolor\":\"white\",\"ticks\":\"\",\"title\":{\"standoff\":15},\"zerolinecolor\":\"white\",\"zerolinewidth\":2}}},\"title\":{\"text\":\"Job Distribution\"}},                        {\"responsive\": true}                    ).then(function(){\n",
              "                            \n",
              "var gd = document.getElementById('89440fe2-cd6b-45c6-a981-7b8409e2e550');\n",
              "var x = new MutationObserver(function (mutations, observer) {{\n",
              "        var display = window.getComputedStyle(gd).display;\n",
              "        if (!display || display === 'none') {{\n",
              "            console.log([gd, 'removed!']);\n",
              "            Plotly.purge(gd);\n",
              "            observer.disconnect();\n",
              "        }}\n",
              "}});\n",
              "\n",
              "// Listen for the removal of the full notebook cells\n",
              "var notebookContainer = gd.closest('#notebook-container');\n",
              "if (notebookContainer) {{\n",
              "    x.observe(notebookContainer, {childList: true});\n",
              "}}\n",
              "\n",
              "// Listen for the clearing of the current output cell\n",
              "var outputEl = gd.closest('.output');\n",
              "if (outputEl) {{\n",
              "    x.observe(outputEl, {childList: true});\n",
              "}}\n",
              "\n",
              "                        })                };                            </script>        </div>\n",
              "</body>\n",
              "</html>"
            ]
          },
          "metadata": {}
        }
      ]
    },
    {
      "cell_type": "markdown",
      "source": [
        "Something really strange is happening here. There way more men in the software engineering group than women. we remember this is the second most payed job. We also see right away that in the lowest payed sector are the most women and literally no men. ***hust**** \n",
        "The high ratio of women in the lower payed jobs and the higher ratio of men the higher payed jobs surely move our data to a certain direction. "
      ],
      "metadata": {
        "id": "Rzh2ffkaobg1"
      }
    },
    {
      "cell_type": "markdown",
      "source": [
        "Next we calculate the z-score for every person. With this we can say how many standard deviations the individuum is away from the mean of their sector. We know that every z distribution should have a mean of 0 and a standard deviation of 1. After we calculated the z-score we test for the above."
      ],
      "metadata": {
        "id": "I8QAUBCTq8Mv"
      }
    },
    {
      "cell_type": "code",
      "source": [
        "avg_pay = df2.groupby('jobTitle').agg({'basePay':'mean'})\n",
        "std_pay = df2.groupby('jobTitle').agg({'basePay':'std'})\n",
        "\n",
        "df2['avg_pay'] = df2['jobTitle'].apply(lambda x:avg_pay.loc[x])\n",
        "df2['std_pay'] = df2['jobTitle'].apply(lambda x:std_pay.loc[x])\n",
        "df2['z_score'] = (df2['basePay'] - df2['avg_pay']) / df2['std_pay']\n",
        "\n",
        "df2.head()"
      ],
      "metadata": {
        "colab": {
          "base_uri": "https://localhost:8080/",
          "height": 206
        },
        "id": "3AJZxyOiExFU",
        "outputId": "2855431e-2b8a-470d-f507-1e54f277fe59"
      },
      "execution_count": null,
      "outputs": [
        {
          "output_type": "execute_result",
          "data": {
            "text/plain": [
              "              jobTitle  gender  age  perfEval      edu            dept  \\\n",
              "1    Software Engineer    Male   21         5  College      Management   \n",
              "2  Warehouse Associate  Female   19         4      PhD  Administration   \n",
              "3    Software Engineer    Male   20         5  Masters           Sales   \n",
              "4     Graphic Designer    Male   26         5  Masters     Engineering   \n",
              "5                   IT  Female   20         5      PhD      Operations   \n",
              "\n",
              "   seniority  basePay  bonus  totalPay       avg_pay       std_pay   z_score  \n",
              "1          5   108476  11128    119604  99739.114583  19900.952985  0.439018  \n",
              "2          5    90208   9268     99476  91130.517241  19409.477070 -0.047529  \n",
              "3          4   108080  10154    118234  99739.114583  19900.952985  0.419120  \n",
              "4          5    99464   9319    108783  93506.150538  20402.746573  0.292012  \n",
              "5          4    70890  10126     81016  92975.089888  20809.567632 -1.061295  "
            ],
            "text/html": [
              "\n",
              "  <div id=\"df-ff875d87-aba8-44bc-8248-b742e8fec6bc\">\n",
              "    <div class=\"colab-df-container\">\n",
              "      <div>\n",
              "<style scoped>\n",
              "    .dataframe tbody tr th:only-of-type {\n",
              "        vertical-align: middle;\n",
              "    }\n",
              "\n",
              "    .dataframe tbody tr th {\n",
              "        vertical-align: top;\n",
              "    }\n",
              "\n",
              "    .dataframe thead th {\n",
              "        text-align: right;\n",
              "    }\n",
              "</style>\n",
              "<table border=\"1\" class=\"dataframe\">\n",
              "  <thead>\n",
              "    <tr style=\"text-align: right;\">\n",
              "      <th></th>\n",
              "      <th>jobTitle</th>\n",
              "      <th>gender</th>\n",
              "      <th>age</th>\n",
              "      <th>perfEval</th>\n",
              "      <th>edu</th>\n",
              "      <th>dept</th>\n",
              "      <th>seniority</th>\n",
              "      <th>basePay</th>\n",
              "      <th>bonus</th>\n",
              "      <th>totalPay</th>\n",
              "      <th>avg_pay</th>\n",
              "      <th>std_pay</th>\n",
              "      <th>z_score</th>\n",
              "    </tr>\n",
              "  </thead>\n",
              "  <tbody>\n",
              "    <tr>\n",
              "      <th>1</th>\n",
              "      <td>Software Engineer</td>\n",
              "      <td>Male</td>\n",
              "      <td>21</td>\n",
              "      <td>5</td>\n",
              "      <td>College</td>\n",
              "      <td>Management</td>\n",
              "      <td>5</td>\n",
              "      <td>108476</td>\n",
              "      <td>11128</td>\n",
              "      <td>119604</td>\n",
              "      <td>99739.114583</td>\n",
              "      <td>19900.952985</td>\n",
              "      <td>0.439018</td>\n",
              "    </tr>\n",
              "    <tr>\n",
              "      <th>2</th>\n",
              "      <td>Warehouse Associate</td>\n",
              "      <td>Female</td>\n",
              "      <td>19</td>\n",
              "      <td>4</td>\n",
              "      <td>PhD</td>\n",
              "      <td>Administration</td>\n",
              "      <td>5</td>\n",
              "      <td>90208</td>\n",
              "      <td>9268</td>\n",
              "      <td>99476</td>\n",
              "      <td>91130.517241</td>\n",
              "      <td>19409.477070</td>\n",
              "      <td>-0.047529</td>\n",
              "    </tr>\n",
              "    <tr>\n",
              "      <th>3</th>\n",
              "      <td>Software Engineer</td>\n",
              "      <td>Male</td>\n",
              "      <td>20</td>\n",
              "      <td>5</td>\n",
              "      <td>Masters</td>\n",
              "      <td>Sales</td>\n",
              "      <td>4</td>\n",
              "      <td>108080</td>\n",
              "      <td>10154</td>\n",
              "      <td>118234</td>\n",
              "      <td>99739.114583</td>\n",
              "      <td>19900.952985</td>\n",
              "      <td>0.419120</td>\n",
              "    </tr>\n",
              "    <tr>\n",
              "      <th>4</th>\n",
              "      <td>Graphic Designer</td>\n",
              "      <td>Male</td>\n",
              "      <td>26</td>\n",
              "      <td>5</td>\n",
              "      <td>Masters</td>\n",
              "      <td>Engineering</td>\n",
              "      <td>5</td>\n",
              "      <td>99464</td>\n",
              "      <td>9319</td>\n",
              "      <td>108783</td>\n",
              "      <td>93506.150538</td>\n",
              "      <td>20402.746573</td>\n",
              "      <td>0.292012</td>\n",
              "    </tr>\n",
              "    <tr>\n",
              "      <th>5</th>\n",
              "      <td>IT</td>\n",
              "      <td>Female</td>\n",
              "      <td>20</td>\n",
              "      <td>5</td>\n",
              "      <td>PhD</td>\n",
              "      <td>Operations</td>\n",
              "      <td>4</td>\n",
              "      <td>70890</td>\n",
              "      <td>10126</td>\n",
              "      <td>81016</td>\n",
              "      <td>92975.089888</td>\n",
              "      <td>20809.567632</td>\n",
              "      <td>-1.061295</td>\n",
              "    </tr>\n",
              "  </tbody>\n",
              "</table>\n",
              "</div>\n",
              "      <button class=\"colab-df-convert\" onclick=\"convertToInteractive('df-ff875d87-aba8-44bc-8248-b742e8fec6bc')\"\n",
              "              title=\"Convert this dataframe to an interactive table.\"\n",
              "              style=\"display:none;\">\n",
              "        \n",
              "  <svg xmlns=\"http://www.w3.org/2000/svg\" height=\"24px\"viewBox=\"0 0 24 24\"\n",
              "       width=\"24px\">\n",
              "    <path d=\"M0 0h24v24H0V0z\" fill=\"none\"/>\n",
              "    <path d=\"M18.56 5.44l.94 2.06.94-2.06 2.06-.94-2.06-.94-.94-2.06-.94 2.06-2.06.94zm-11 1L8.5 8.5l.94-2.06 2.06-.94-2.06-.94L8.5 2.5l-.94 2.06-2.06.94zm10 10l.94 2.06.94-2.06 2.06-.94-2.06-.94-.94-2.06-.94 2.06-2.06.94z\"/><path d=\"M17.41 7.96l-1.37-1.37c-.4-.4-.92-.59-1.43-.59-.52 0-1.04.2-1.43.59L10.3 9.45l-7.72 7.72c-.78.78-.78 2.05 0 2.83L4 21.41c.39.39.9.59 1.41.59.51 0 1.02-.2 1.41-.59l7.78-7.78 2.81-2.81c.8-.78.8-2.07 0-2.86zM5.41 20L4 18.59l7.72-7.72 1.47 1.35L5.41 20z\"/>\n",
              "  </svg>\n",
              "      </button>\n",
              "      \n",
              "  <style>\n",
              "    .colab-df-container {\n",
              "      display:flex;\n",
              "      flex-wrap:wrap;\n",
              "      gap: 12px;\n",
              "    }\n",
              "\n",
              "    .colab-df-convert {\n",
              "      background-color: #E8F0FE;\n",
              "      border: none;\n",
              "      border-radius: 50%;\n",
              "      cursor: pointer;\n",
              "      display: none;\n",
              "      fill: #1967D2;\n",
              "      height: 32px;\n",
              "      padding: 0 0 0 0;\n",
              "      width: 32px;\n",
              "    }\n",
              "\n",
              "    .colab-df-convert:hover {\n",
              "      background-color: #E2EBFA;\n",
              "      box-shadow: 0px 1px 2px rgba(60, 64, 67, 0.3), 0px 1px 3px 1px rgba(60, 64, 67, 0.15);\n",
              "      fill: #174EA6;\n",
              "    }\n",
              "\n",
              "    [theme=dark] .colab-df-convert {\n",
              "      background-color: #3B4455;\n",
              "      fill: #D2E3FC;\n",
              "    }\n",
              "\n",
              "    [theme=dark] .colab-df-convert:hover {\n",
              "      background-color: #434B5C;\n",
              "      box-shadow: 0px 1px 3px 1px rgba(0, 0, 0, 0.15);\n",
              "      filter: drop-shadow(0px 1px 2px rgba(0, 0, 0, 0.3));\n",
              "      fill: #FFFFFF;\n",
              "    }\n",
              "  </style>\n",
              "\n",
              "      <script>\n",
              "        const buttonEl =\n",
              "          document.querySelector('#df-ff875d87-aba8-44bc-8248-b742e8fec6bc button.colab-df-convert');\n",
              "        buttonEl.style.display =\n",
              "          google.colab.kernel.accessAllowed ? 'block' : 'none';\n",
              "\n",
              "        async function convertToInteractive(key) {\n",
              "          const element = document.querySelector('#df-ff875d87-aba8-44bc-8248-b742e8fec6bc');\n",
              "          const dataTable =\n",
              "            await google.colab.kernel.invokeFunction('convertToInteractive',\n",
              "                                                     [key], {});\n",
              "          if (!dataTable) return;\n",
              "\n",
              "          const docLinkHtml = 'Like what you see? Visit the ' +\n",
              "            '<a target=\"_blank\" href=https://colab.research.google.com/notebooks/data_table.ipynb>data table notebook</a>'\n",
              "            + ' to learn more about interactive tables.';\n",
              "          element.innerHTML = '';\n",
              "          dataTable['output_type'] = 'display_data';\n",
              "          await google.colab.output.renderOutput(dataTable, element);\n",
              "          const docLink = document.createElement('div');\n",
              "          docLink.innerHTML = docLinkHtml;\n",
              "          element.appendChild(docLink);\n",
              "        }\n",
              "      </script>\n",
              "    </div>\n",
              "  </div>\n",
              "  "
            ]
          },
          "metadata": {},
          "execution_count": 13
        }
      ]
    },
    {
      "cell_type": "code",
      "source": [
        "df2.groupby(['jobTitle'])['z_score'].mean()\n",
        "df2.groupby(['jobTitle'])['z_score'].std()"
      ],
      "metadata": {
        "colab": {
          "base_uri": "https://localhost:8080/"
        },
        "id": "txfxrX7-F_NH",
        "outputId": "11e90fdd-9998-4a00-d61a-461abcc90f0f"
      },
      "execution_count": null,
      "outputs": [
        {
          "output_type": "execute_result",
          "data": {
            "text/plain": [
              "jobTitle\n",
              "Data Scientist         1.0\n",
              "Driver                 1.0\n",
              "Financial Analyst      1.0\n",
              "Graphic Designer       1.0\n",
              "IT                     1.0\n",
              "Manager                1.0\n",
              "Marketing Associate    1.0\n",
              "Sales Associate        1.0\n",
              "Software Engineer      1.0\n",
              "Warehouse Associate    1.0\n",
              "Name: z_score, dtype: float64"
            ]
          },
          "metadata": {},
          "execution_count": 14
        }
      ]
    },
    {
      "cell_type": "code",
      "source": [
        "df2.groupby(['jobTitle', 'gender'])['z_score'].mean()"
      ],
      "metadata": {
        "colab": {
          "base_uri": "https://localhost:8080/"
        },
        "id": "OaKsgfxzHIS0",
        "outputId": "f6130285-0799-4e47-840e-06f50337b268"
      },
      "execution_count": null,
      "outputs": [
        {
          "output_type": "execute_result",
          "data": {
            "text/plain": [
              "jobTitle             gender\n",
              "Data Scientist       Female    0.116787\n",
              "                     Male     -0.107803\n",
              "Driver               Female   -0.125859\n",
              "                     Male      0.134849\n",
              "Financial Analyst    Female    0.087995\n",
              "                     Male     -0.067926\n",
              "Graphic Designer     Female    0.045208\n",
              "                     Male     -0.044246\n",
              "IT                   Female    0.029936\n",
              "                     Male     -0.033500\n",
              "Manager              Female   -0.014637\n",
              "                     Male      0.003096\n",
              "Marketing Associate  Female   -0.012373\n",
              "                     Male      0.110120\n",
              "Sales Associate      Female   -0.166690\n",
              "                     Male      0.148572\n",
              "Software Engineer    Female   -0.253159\n",
              "                     Male      0.023014\n",
              "Warehouse Associate  Female    0.130292\n",
              "                     Male     -0.139599\n",
              "Name: z_score, dtype: float64"
            ]
          },
          "metadata": {},
          "execution_count": 15
        }
      ]
    },
    {
      "cell_type": "markdown",
      "source": [
        "We can observe the deviation from the average earnings for each gender within their respective sectors, measured in standard deviations. For instance, female Data Scientists tend to earn on average 0.1 standard deviation more than the average for their sector, while men earn 0.1 standard deviation less.\n",
        "\n",
        "It appears that when the average z-scores for a group are similar, but with opposite signs, the sex ratio is roughly equal. Conversely, when the average z-scores differ greatly and the sex ratio is not balanced, the sex ration may not be well distributed within that group. \n",
        "\n",
        "These are only the group of **Software Engineers** and **Marketing Associate**. As previously established, the groups where the sex ratio is highly unequal, it would be appropriate to exclude them from our dataset and recalculate the pay gap. (We could argue to do the same with the manager group but in this case we leave this group in our dataset)"
      ],
      "metadata": {
        "id": "H_kuI98_smER"
      }
    },
    {
      "cell_type": "code",
      "source": [
        "df3 = df2.drop(df2[df2.jobTitle == 'Marketing Associate'].index)\n",
        "df3 = df3.drop(df3[df3.jobTitle == 'Software Engineer'].index)\n",
        "\n",
        "\n",
        "df3.head()"
      ],
      "metadata": {
        "colab": {
          "base_uri": "https://localhost:8080/",
          "height": 206
        },
        "id": "Lv8nep2iHJf-",
        "outputId": "916aca99-2d88-4184-8f77-e454d468ac5b"
      },
      "execution_count": null,
      "outputs": [
        {
          "output_type": "execute_result",
          "data": {
            "text/plain": [
              "              jobTitle  gender  age  perfEval          edu            dept  \\\n",
              "2  Warehouse Associate  Female   19         4          PhD  Administration   \n",
              "4     Graphic Designer    Male   26         5      Masters     Engineering   \n",
              "5                   IT  Female   20         5          PhD      Operations   \n",
              "6     Graphic Designer  Female   20         5      College           Sales   \n",
              "8     Graphic Designer  Female   33         5  High School     Engineering   \n",
              "\n",
              "   seniority  basePay  bonus  totalPay  \n",
              "2          5    90208   9268     99476  \n",
              "4          5    99464   9319    108783  \n",
              "5          4    70890  10126     81016  \n",
              "6          4    67585  10541     78126  \n",
              "8          5   112976   9836    122812  "
            ],
            "text/html": [
              "\n",
              "  <div id=\"df-27c7984e-43f0-4b4f-b5a9-bc33dc0b1a31\">\n",
              "    <div class=\"colab-df-container\">\n",
              "      <div>\n",
              "<style scoped>\n",
              "    .dataframe tbody tr th:only-of-type {\n",
              "        vertical-align: middle;\n",
              "    }\n",
              "\n",
              "    .dataframe tbody tr th {\n",
              "        vertical-align: top;\n",
              "    }\n",
              "\n",
              "    .dataframe thead th {\n",
              "        text-align: right;\n",
              "    }\n",
              "</style>\n",
              "<table border=\"1\" class=\"dataframe\">\n",
              "  <thead>\n",
              "    <tr style=\"text-align: right;\">\n",
              "      <th></th>\n",
              "      <th>jobTitle</th>\n",
              "      <th>gender</th>\n",
              "      <th>age</th>\n",
              "      <th>perfEval</th>\n",
              "      <th>edu</th>\n",
              "      <th>dept</th>\n",
              "      <th>seniority</th>\n",
              "      <th>basePay</th>\n",
              "      <th>bonus</th>\n",
              "      <th>totalPay</th>\n",
              "    </tr>\n",
              "  </thead>\n",
              "  <tbody>\n",
              "    <tr>\n",
              "      <th>2</th>\n",
              "      <td>Warehouse Associate</td>\n",
              "      <td>Female</td>\n",
              "      <td>19</td>\n",
              "      <td>4</td>\n",
              "      <td>PhD</td>\n",
              "      <td>Administration</td>\n",
              "      <td>5</td>\n",
              "      <td>90208</td>\n",
              "      <td>9268</td>\n",
              "      <td>99476</td>\n",
              "    </tr>\n",
              "    <tr>\n",
              "      <th>4</th>\n",
              "      <td>Graphic Designer</td>\n",
              "      <td>Male</td>\n",
              "      <td>26</td>\n",
              "      <td>5</td>\n",
              "      <td>Masters</td>\n",
              "      <td>Engineering</td>\n",
              "      <td>5</td>\n",
              "      <td>99464</td>\n",
              "      <td>9319</td>\n",
              "      <td>108783</td>\n",
              "    </tr>\n",
              "    <tr>\n",
              "      <th>5</th>\n",
              "      <td>IT</td>\n",
              "      <td>Female</td>\n",
              "      <td>20</td>\n",
              "      <td>5</td>\n",
              "      <td>PhD</td>\n",
              "      <td>Operations</td>\n",
              "      <td>4</td>\n",
              "      <td>70890</td>\n",
              "      <td>10126</td>\n",
              "      <td>81016</td>\n",
              "    </tr>\n",
              "    <tr>\n",
              "      <th>6</th>\n",
              "      <td>Graphic Designer</td>\n",
              "      <td>Female</td>\n",
              "      <td>20</td>\n",
              "      <td>5</td>\n",
              "      <td>College</td>\n",
              "      <td>Sales</td>\n",
              "      <td>4</td>\n",
              "      <td>67585</td>\n",
              "      <td>10541</td>\n",
              "      <td>78126</td>\n",
              "    </tr>\n",
              "    <tr>\n",
              "      <th>8</th>\n",
              "      <td>Graphic Designer</td>\n",
              "      <td>Female</td>\n",
              "      <td>33</td>\n",
              "      <td>5</td>\n",
              "      <td>High School</td>\n",
              "      <td>Engineering</td>\n",
              "      <td>5</td>\n",
              "      <td>112976</td>\n",
              "      <td>9836</td>\n",
              "      <td>122812</td>\n",
              "    </tr>\n",
              "  </tbody>\n",
              "</table>\n",
              "</div>\n",
              "      <button class=\"colab-df-convert\" onclick=\"convertToInteractive('df-27c7984e-43f0-4b4f-b5a9-bc33dc0b1a31')\"\n",
              "              title=\"Convert this dataframe to an interactive table.\"\n",
              "              style=\"display:none;\">\n",
              "        \n",
              "  <svg xmlns=\"http://www.w3.org/2000/svg\" height=\"24px\"viewBox=\"0 0 24 24\"\n",
              "       width=\"24px\">\n",
              "    <path d=\"M0 0h24v24H0V0z\" fill=\"none\"/>\n",
              "    <path d=\"M18.56 5.44l.94 2.06.94-2.06 2.06-.94-2.06-.94-.94-2.06-.94 2.06-2.06.94zm-11 1L8.5 8.5l.94-2.06 2.06-.94-2.06-.94L8.5 2.5l-.94 2.06-2.06.94zm10 10l.94 2.06.94-2.06 2.06-.94-2.06-.94-.94-2.06-.94 2.06-2.06.94z\"/><path d=\"M17.41 7.96l-1.37-1.37c-.4-.4-.92-.59-1.43-.59-.52 0-1.04.2-1.43.59L10.3 9.45l-7.72 7.72c-.78.78-.78 2.05 0 2.83L4 21.41c.39.39.9.59 1.41.59.51 0 1.02-.2 1.41-.59l7.78-7.78 2.81-2.81c.8-.78.8-2.07 0-2.86zM5.41 20L4 18.59l7.72-7.72 1.47 1.35L5.41 20z\"/>\n",
              "  </svg>\n",
              "      </button>\n",
              "      \n",
              "  <style>\n",
              "    .colab-df-container {\n",
              "      display:flex;\n",
              "      flex-wrap:wrap;\n",
              "      gap: 12px;\n",
              "    }\n",
              "\n",
              "    .colab-df-convert {\n",
              "      background-color: #E8F0FE;\n",
              "      border: none;\n",
              "      border-radius: 50%;\n",
              "      cursor: pointer;\n",
              "      display: none;\n",
              "      fill: #1967D2;\n",
              "      height: 32px;\n",
              "      padding: 0 0 0 0;\n",
              "      width: 32px;\n",
              "    }\n",
              "\n",
              "    .colab-df-convert:hover {\n",
              "      background-color: #E2EBFA;\n",
              "      box-shadow: 0px 1px 2px rgba(60, 64, 67, 0.3), 0px 1px 3px 1px rgba(60, 64, 67, 0.15);\n",
              "      fill: #174EA6;\n",
              "    }\n",
              "\n",
              "    [theme=dark] .colab-df-convert {\n",
              "      background-color: #3B4455;\n",
              "      fill: #D2E3FC;\n",
              "    }\n",
              "\n",
              "    [theme=dark] .colab-df-convert:hover {\n",
              "      background-color: #434B5C;\n",
              "      box-shadow: 0px 1px 3px 1px rgba(0, 0, 0, 0.15);\n",
              "      filter: drop-shadow(0px 1px 2px rgba(0, 0, 0, 0.3));\n",
              "      fill: #FFFFFF;\n",
              "    }\n",
              "  </style>\n",
              "\n",
              "      <script>\n",
              "        const buttonEl =\n",
              "          document.querySelector('#df-27c7984e-43f0-4b4f-b5a9-bc33dc0b1a31 button.colab-df-convert');\n",
              "        buttonEl.style.display =\n",
              "          google.colab.kernel.accessAllowed ? 'block' : 'none';\n",
              "\n",
              "        async function convertToInteractive(key) {\n",
              "          const element = document.querySelector('#df-27c7984e-43f0-4b4f-b5a9-bc33dc0b1a31');\n",
              "          const dataTable =\n",
              "            await google.colab.kernel.invokeFunction('convertToInteractive',\n",
              "                                                     [key], {});\n",
              "          if (!dataTable) return;\n",
              "\n",
              "          const docLinkHtml = 'Like what you see? Visit the ' +\n",
              "            '<a target=\"_blank\" href=https://colab.research.google.com/notebooks/data_table.ipynb>data table notebook</a>'\n",
              "            + ' to learn more about interactive tables.';\n",
              "          element.innerHTML = '';\n",
              "          dataTable['output_type'] = 'display_data';\n",
              "          await google.colab.output.renderOutput(dataTable, element);\n",
              "          const docLink = document.createElement('div');\n",
              "          docLink.innerHTML = docLinkHtml;\n",
              "          element.appendChild(docLink);\n",
              "        }\n",
              "      </script>\n",
              "    </div>\n",
              "  </div>\n",
              "  "
            ]
          },
          "metadata": {},
          "execution_count": 19
        }
      ]
    },
    {
      "cell_type": "code",
      "source": [
        "female, men = df3.groupby(['gender'])['basePay'].mean()\n",
        "print(f'On average Women earn {int(female)}$ and men earn {int(men)}$\\nMen earn {round(((men/female)-1)*100, 2)}% more then women')"
      ],
      "metadata": {
        "colab": {
          "base_uri": "https://localhost:8080/"
        },
        "id": "WQ4PV3MPHrMS",
        "outputId": "e223ffb3-8200-4b5d-e3b0-d36b77432399"
      },
      "execution_count": null,
      "outputs": [
        {
          "output_type": "stream",
          "name": "stdout",
          "text": [
            "On average Women earn 94006$ and men earn 95646$\n",
            "Men earn 1.75% more then women\n"
          ]
        }
      ]
    },
    {
      "cell_type": "code",
      "source": [
        "n_female, n_male = df3.groupby(['gender'])['jobTitle'].count()\n",
        "print(f'In our dataset are {n_female} women and {n_male} men')"
      ],
      "metadata": {
        "colab": {
          "base_uri": "https://localhost:8080/"
        },
        "id": "1YFSEIqDN_Ke",
        "outputId": "71b454b9-e566-4cdd-d5df-8b78985e7586"
      },
      "execution_count": null,
      "outputs": [
        {
          "output_type": "stream",
          "name": "stdout",
          "text": [
            "In our dataset are 327 women and 380 men\n"
          ]
        }
      ]
    },
    {
      "cell_type": "markdown",
      "source": [
        "By removing two groups from our dataset, the pay gap changed significantly. Now, there is only a pay gap of 1.75% remaining.\n",
        "\n",
        "From our previous calculations, we know that there is a correlation between the pay gap and education level. Let's examine this further."
      ],
      "metadata": {
        "id": "ilMe4GQLv6Rk"
      }
    },
    {
      "cell_type": "code",
      "source": [
        "title = pd.get_dummies(df3, columns=['gender']).groupby('edu').sum()\n",
        "\n",
        "female = go.Pie(labels=title.index, values=title['gender_Female'], name=\"Female\", hole=0.5, domain={'x': [0,0.46]})\n",
        "male = go.Pie(labels=title.index,values=title['gender_Male'],name=\"Male\",hole=0.5,domain={'x': [0.52,1]})\n",
        "\n",
        "layout = dict(title = 'Job Title Distribution', font=dict(size=14), legend=dict(orientation=\"h\"),\n",
        "              annotations = [dict(x=0.2, y=0.5, text='Female', showarrow=False, font=dict(size=20)),\n",
        "                             dict(x=0.8, y=0.5, text='Male', showarrow=False, font=dict(size=20)) ])\n",
        "\n",
        "fig = dict(data=[female, male], layout=layout)\n",
        "py.iplot(fig)"
      ],
      "metadata": {
        "colab": {
          "base_uri": "https://localhost:8080/",
          "height": 542
        },
        "id": "v0OVMHsjhvef",
        "outputId": "167ad953-95c9-404b-b24f-14c27fe9e5e7"
      },
      "execution_count": null,
      "outputs": [
        {
          "output_type": "display_data",
          "data": {
            "text/html": [
              "<html>\n",
              "<head><meta charset=\"utf-8\" /></head>\n",
              "<body>\n",
              "    <div>            <script src=\"https://cdnjs.cloudflare.com/ajax/libs/mathjax/2.7.5/MathJax.js?config=TeX-AMS-MML_SVG\"></script><script type=\"text/javascript\">if (window.MathJax) {MathJax.Hub.Config({SVG: {font: \"STIX-Web\"}});}</script>                <script type=\"text/javascript\">window.PlotlyConfig = {MathJaxConfig: 'local'};</script>\n",
              "        <script src=\"https://cdn.plot.ly/plotly-2.8.3.min.js\"></script>                <div id=\"b1c4b9e5-d537-46e0-a9af-1b8511092013\" class=\"plotly-graph-div\" style=\"height:525px; width:100%;\"></div>            <script type=\"text/javascript\">                                    window.PLOTLYENV=window.PLOTLYENV || {};                                    if (document.getElementById(\"b1c4b9e5-d537-46e0-a9af-1b8511092013\")) {                    Plotly.newPlot(                        \"b1c4b9e5-d537-46e0-a9af-1b8511092013\",                        [{\"domain\":{\"x\":[0,0.46]},\"hole\":0.5,\"labels\":[\"College\",\"High School\",\"Masters\",\"PhD\"],\"name\":\"Female\",\"values\":[93,85,74,75],\"type\":\"pie\"},{\"domain\":{\"x\":[0.52,1]},\"hole\":0.5,\"labels\":[\"College\",\"High School\",\"Masters\",\"PhD\"],\"name\":\"Male\",\"values\":[86,94,110,90],\"type\":\"pie\"}],                        {\"annotations\":[{\"font\":{\"size\":20},\"showarrow\":false,\"text\":\"Female\",\"x\":0.2,\"y\":0.5},{\"font\":{\"size\":20},\"showarrow\":false,\"text\":\"Male\",\"x\":0.8,\"y\":0.5}],\"font\":{\"size\":14},\"legend\":{\"orientation\":\"h\"},\"template\":{\"data\":{\"barpolar\":[{\"marker\":{\"line\":{\"color\":\"#E5ECF6\",\"width\":0.5},\"pattern\":{\"fillmode\":\"overlay\",\"size\":10,\"solidity\":0.2}},\"type\":\"barpolar\"}],\"bar\":[{\"error_x\":{\"color\":\"#2a3f5f\"},\"error_y\":{\"color\":\"#2a3f5f\"},\"marker\":{\"line\":{\"color\":\"#E5ECF6\",\"width\":0.5},\"pattern\":{\"fillmode\":\"overlay\",\"size\":10,\"solidity\":0.2}},\"type\":\"bar\"}],\"carpet\":[{\"aaxis\":{\"endlinecolor\":\"#2a3f5f\",\"gridcolor\":\"white\",\"linecolor\":\"white\",\"minorgridcolor\":\"white\",\"startlinecolor\":\"#2a3f5f\"},\"baxis\":{\"endlinecolor\":\"#2a3f5f\",\"gridcolor\":\"white\",\"linecolor\":\"white\",\"minorgridcolor\":\"white\",\"startlinecolor\":\"#2a3f5f\"},\"type\":\"carpet\"}],\"choropleth\":[{\"colorbar\":{\"outlinewidth\":0,\"ticks\":\"\"},\"type\":\"choropleth\"}],\"contourcarpet\":[{\"colorbar\":{\"outlinewidth\":0,\"ticks\":\"\"},\"type\":\"contourcarpet\"}],\"contour\":[{\"colorbar\":{\"outlinewidth\":0,\"ticks\":\"\"},\"colorscale\":[[0.0,\"#0d0887\"],[0.1111111111111111,\"#46039f\"],[0.2222222222222222,\"#7201a8\"],[0.3333333333333333,\"#9c179e\"],[0.4444444444444444,\"#bd3786\"],[0.5555555555555556,\"#d8576b\"],[0.6666666666666666,\"#ed7953\"],[0.7777777777777778,\"#fb9f3a\"],[0.8888888888888888,\"#fdca26\"],[1.0,\"#f0f921\"]],\"type\":\"contour\"}],\"heatmapgl\":[{\"colorbar\":{\"outlinewidth\":0,\"ticks\":\"\"},\"colorscale\":[[0.0,\"#0d0887\"],[0.1111111111111111,\"#46039f\"],[0.2222222222222222,\"#7201a8\"],[0.3333333333333333,\"#9c179e\"],[0.4444444444444444,\"#bd3786\"],[0.5555555555555556,\"#d8576b\"],[0.6666666666666666,\"#ed7953\"],[0.7777777777777778,\"#fb9f3a\"],[0.8888888888888888,\"#fdca26\"],[1.0,\"#f0f921\"]],\"type\":\"heatmapgl\"}],\"heatmap\":[{\"colorbar\":{\"outlinewidth\":0,\"ticks\":\"\"},\"colorscale\":[[0.0,\"#0d0887\"],[0.1111111111111111,\"#46039f\"],[0.2222222222222222,\"#7201a8\"],[0.3333333333333333,\"#9c179e\"],[0.4444444444444444,\"#bd3786\"],[0.5555555555555556,\"#d8576b\"],[0.6666666666666666,\"#ed7953\"],[0.7777777777777778,\"#fb9f3a\"],[0.8888888888888888,\"#fdca26\"],[1.0,\"#f0f921\"]],\"type\":\"heatmap\"}],\"histogram2dcontour\":[{\"colorbar\":{\"outlinewidth\":0,\"ticks\":\"\"},\"colorscale\":[[0.0,\"#0d0887\"],[0.1111111111111111,\"#46039f\"],[0.2222222222222222,\"#7201a8\"],[0.3333333333333333,\"#9c179e\"],[0.4444444444444444,\"#bd3786\"],[0.5555555555555556,\"#d8576b\"],[0.6666666666666666,\"#ed7953\"],[0.7777777777777778,\"#fb9f3a\"],[0.8888888888888888,\"#fdca26\"],[1.0,\"#f0f921\"]],\"type\":\"histogram2dcontour\"}],\"histogram2d\":[{\"colorbar\":{\"outlinewidth\":0,\"ticks\":\"\"},\"colorscale\":[[0.0,\"#0d0887\"],[0.1111111111111111,\"#46039f\"],[0.2222222222222222,\"#7201a8\"],[0.3333333333333333,\"#9c179e\"],[0.4444444444444444,\"#bd3786\"],[0.5555555555555556,\"#d8576b\"],[0.6666666666666666,\"#ed7953\"],[0.7777777777777778,\"#fb9f3a\"],[0.8888888888888888,\"#fdca26\"],[1.0,\"#f0f921\"]],\"type\":\"histogram2d\"}],\"histogram\":[{\"marker\":{\"pattern\":{\"fillmode\":\"overlay\",\"size\":10,\"solidity\":0.2}},\"type\":\"histogram\"}],\"mesh3d\":[{\"colorbar\":{\"outlinewidth\":0,\"ticks\":\"\"},\"type\":\"mesh3d\"}],\"parcoords\":[{\"line\":{\"colorbar\":{\"outlinewidth\":0,\"ticks\":\"\"}},\"type\":\"parcoords\"}],\"pie\":[{\"automargin\":true,\"type\":\"pie\"}],\"scatter3d\":[{\"line\":{\"colorbar\":{\"outlinewidth\":0,\"ticks\":\"\"}},\"marker\":{\"colorbar\":{\"outlinewidth\":0,\"ticks\":\"\"}},\"type\":\"scatter3d\"}],\"scattercarpet\":[{\"marker\":{\"colorbar\":{\"outlinewidth\":0,\"ticks\":\"\"}},\"type\":\"scattercarpet\"}],\"scattergeo\":[{\"marker\":{\"colorbar\":{\"outlinewidth\":0,\"ticks\":\"\"}},\"type\":\"scattergeo\"}],\"scattergl\":[{\"marker\":{\"colorbar\":{\"outlinewidth\":0,\"ticks\":\"\"}},\"type\":\"scattergl\"}],\"scattermapbox\":[{\"marker\":{\"colorbar\":{\"outlinewidth\":0,\"ticks\":\"\"}},\"type\":\"scattermapbox\"}],\"scatterpolargl\":[{\"marker\":{\"colorbar\":{\"outlinewidth\":0,\"ticks\":\"\"}},\"type\":\"scatterpolargl\"}],\"scatterpolar\":[{\"marker\":{\"colorbar\":{\"outlinewidth\":0,\"ticks\":\"\"}},\"type\":\"scatterpolar\"}],\"scatter\":[{\"marker\":{\"colorbar\":{\"outlinewidth\":0,\"ticks\":\"\"}},\"type\":\"scatter\"}],\"scatterternary\":[{\"marker\":{\"colorbar\":{\"outlinewidth\":0,\"ticks\":\"\"}},\"type\":\"scatterternary\"}],\"surface\":[{\"colorbar\":{\"outlinewidth\":0,\"ticks\":\"\"},\"colorscale\":[[0.0,\"#0d0887\"],[0.1111111111111111,\"#46039f\"],[0.2222222222222222,\"#7201a8\"],[0.3333333333333333,\"#9c179e\"],[0.4444444444444444,\"#bd3786\"],[0.5555555555555556,\"#d8576b\"],[0.6666666666666666,\"#ed7953\"],[0.7777777777777778,\"#fb9f3a\"],[0.8888888888888888,\"#fdca26\"],[1.0,\"#f0f921\"]],\"type\":\"surface\"}],\"table\":[{\"cells\":{\"fill\":{\"color\":\"#EBF0F8\"},\"line\":{\"color\":\"white\"}},\"header\":{\"fill\":{\"color\":\"#C8D4E3\"},\"line\":{\"color\":\"white\"}},\"type\":\"table\"}]},\"layout\":{\"annotationdefaults\":{\"arrowcolor\":\"#2a3f5f\",\"arrowhead\":0,\"arrowwidth\":1},\"autotypenumbers\":\"strict\",\"coloraxis\":{\"colorbar\":{\"outlinewidth\":0,\"ticks\":\"\"}},\"colorscale\":{\"diverging\":[[0,\"#8e0152\"],[0.1,\"#c51b7d\"],[0.2,\"#de77ae\"],[0.3,\"#f1b6da\"],[0.4,\"#fde0ef\"],[0.5,\"#f7f7f7\"],[0.6,\"#e6f5d0\"],[0.7,\"#b8e186\"],[0.8,\"#7fbc41\"],[0.9,\"#4d9221\"],[1,\"#276419\"]],\"sequential\":[[0.0,\"#0d0887\"],[0.1111111111111111,\"#46039f\"],[0.2222222222222222,\"#7201a8\"],[0.3333333333333333,\"#9c179e\"],[0.4444444444444444,\"#bd3786\"],[0.5555555555555556,\"#d8576b\"],[0.6666666666666666,\"#ed7953\"],[0.7777777777777778,\"#fb9f3a\"],[0.8888888888888888,\"#fdca26\"],[1.0,\"#f0f921\"]],\"sequentialminus\":[[0.0,\"#0d0887\"],[0.1111111111111111,\"#46039f\"],[0.2222222222222222,\"#7201a8\"],[0.3333333333333333,\"#9c179e\"],[0.4444444444444444,\"#bd3786\"],[0.5555555555555556,\"#d8576b\"],[0.6666666666666666,\"#ed7953\"],[0.7777777777777778,\"#fb9f3a\"],[0.8888888888888888,\"#fdca26\"],[1.0,\"#f0f921\"]]},\"colorway\":[\"#636efa\",\"#EF553B\",\"#00cc96\",\"#ab63fa\",\"#FFA15A\",\"#19d3f3\",\"#FF6692\",\"#B6E880\",\"#FF97FF\",\"#FECB52\"],\"font\":{\"color\":\"#2a3f5f\"},\"geo\":{\"bgcolor\":\"white\",\"lakecolor\":\"white\",\"landcolor\":\"#E5ECF6\",\"showlakes\":true,\"showland\":true,\"subunitcolor\":\"white\"},\"hoverlabel\":{\"align\":\"left\"},\"hovermode\":\"closest\",\"mapbox\":{\"style\":\"light\"},\"paper_bgcolor\":\"white\",\"plot_bgcolor\":\"#E5ECF6\",\"polar\":{\"angularaxis\":{\"gridcolor\":\"white\",\"linecolor\":\"white\",\"ticks\":\"\"},\"bgcolor\":\"#E5ECF6\",\"radialaxis\":{\"gridcolor\":\"white\",\"linecolor\":\"white\",\"ticks\":\"\"}},\"scene\":{\"xaxis\":{\"backgroundcolor\":\"#E5ECF6\",\"gridcolor\":\"white\",\"gridwidth\":2,\"linecolor\":\"white\",\"showbackground\":true,\"ticks\":\"\",\"zerolinecolor\":\"white\"},\"yaxis\":{\"backgroundcolor\":\"#E5ECF6\",\"gridcolor\":\"white\",\"gridwidth\":2,\"linecolor\":\"white\",\"showbackground\":true,\"ticks\":\"\",\"zerolinecolor\":\"white\"},\"zaxis\":{\"backgroundcolor\":\"#E5ECF6\",\"gridcolor\":\"white\",\"gridwidth\":2,\"linecolor\":\"white\",\"showbackground\":true,\"ticks\":\"\",\"zerolinecolor\":\"white\"}},\"shapedefaults\":{\"line\":{\"color\":\"#2a3f5f\"}},\"ternary\":{\"aaxis\":{\"gridcolor\":\"white\",\"linecolor\":\"white\",\"ticks\":\"\"},\"baxis\":{\"gridcolor\":\"white\",\"linecolor\":\"white\",\"ticks\":\"\"},\"bgcolor\":\"#E5ECF6\",\"caxis\":{\"gridcolor\":\"white\",\"linecolor\":\"white\",\"ticks\":\"\"}},\"title\":{\"x\":0.05},\"xaxis\":{\"automargin\":true,\"gridcolor\":\"white\",\"linecolor\":\"white\",\"ticks\":\"\",\"title\":{\"standoff\":15},\"zerolinecolor\":\"white\",\"zerolinewidth\":2},\"yaxis\":{\"automargin\":true,\"gridcolor\":\"white\",\"linecolor\":\"white\",\"ticks\":\"\",\"title\":{\"standoff\":15},\"zerolinecolor\":\"white\",\"zerolinewidth\":2}}},\"title\":{\"text\":\"Job Title Distribution\"}},                        {\"responsive\": true}                    ).then(function(){\n",
              "                            \n",
              "var gd = document.getElementById('b1c4b9e5-d537-46e0-a9af-1b8511092013');\n",
              "var x = new MutationObserver(function (mutations, observer) {{\n",
              "        var display = window.getComputedStyle(gd).display;\n",
              "        if (!display || display === 'none') {{\n",
              "            console.log([gd, 'removed!']);\n",
              "            Plotly.purge(gd);\n",
              "            observer.disconnect();\n",
              "        }}\n",
              "}});\n",
              "\n",
              "// Listen for the removal of the full notebook cells\n",
              "var notebookContainer = gd.closest('#notebook-container');\n",
              "if (notebookContainer) {{\n",
              "    x.observe(notebookContainer, {childList: true});\n",
              "}}\n",
              "\n",
              "// Listen for the clearing of the current output cell\n",
              "var outputEl = gd.closest('.output');\n",
              "if (outputEl) {{\n",
              "    x.observe(outputEl, {childList: true});\n",
              "}}\n",
              "\n",
              "                        })                };                            </script>        </div>\n",
              "</body>\n",
              "</html>"
            ]
          },
          "metadata": {}
        }
      ]
    },
    {
      "cell_type": "markdown",
      "source": [
        "The distribution appears to be fair. Upon examining the average z-scores, it is evident that there is a pay gap based on education level. Female college students tend to receive lower pay on average within their sector. We can also observe that the sample size for both groups is similar. Furthermore, it can be seen that a higher education level leads to better average pay within a sector, which favors women. However, this does not necessarily mean that women overall receive higher pay."
      ],
      "metadata": {
        "id": "hRePlpxEwWvl"
      }
    },
    {
      "cell_type": "code",
      "source": [
        "df2.groupby(['edu', 'gender'])['z_score'].mean()"
      ],
      "metadata": {
        "colab": {
          "base_uri": "https://localhost:8080/"
        },
        "id": "nmqK2eSawtA5",
        "outputId": "a7c376cc-df02-4075-c7ad-c25bccb9489e"
      },
      "execution_count": null,
      "outputs": [
        {
          "output_type": "execute_result",
          "data": {
            "text/plain": [
              "edu          gender\n",
              "College      Female   -0.125972\n",
              "             Male      0.009820\n",
              "High School  Female   -0.142728\n",
              "             Male     -0.255998\n",
              "Masters      Female    0.065539\n",
              "             Male      0.092813\n",
              "PhD          Female    0.279853\n",
              "             Male      0.133898\n",
              "Name: z_score, dtype: float64"
            ]
          },
          "metadata": {},
          "execution_count": 131
        }
      ]
    },
    {
      "cell_type": "code",
      "source": [
        "df2.groupby(['edu', 'gender'])['basePay'].mean()"
      ],
      "metadata": {
        "colab": {
          "base_uri": "https://localhost:8080/"
        },
        "id": "1xkmI2P-xeF4",
        "outputId": "d020a3b0-d767-4361-ac02-443756fb0a3e"
      },
      "execution_count": null,
      "outputs": [
        {
          "output_type": "execute_result",
          "data": {
            "text/plain": [
              "edu          gender\n",
              "College      Female    88801.620690\n",
              "             Male      96975.352381\n",
              "High School  Female    88861.628319\n",
              "             Male      91188.500000\n",
              "Masters      Female    92389.701031\n",
              "             Male      98110.724638\n",
              "PhD          Female    97413.316327\n",
              "             Male      98932.144144\n",
              "Name: basePay, dtype: float64"
            ]
          },
          "metadata": {},
          "execution_count": 150
        }
      ]
    },
    {
      "cell_type": "markdown",
      "source": [
        "<div class=\"markdown-google-sans\">\n",
        "\n",
        "## **Conclsuion**\n",
        "</div>\n",
        "\n",
        "From our little research we gathered the following insights:\n",
        "\n",
        "*   The removed extreme 5% on both ends of the distribution and reduced the pay gap by nearly 50%.\n",
        "*   We examined the dataset even further and realized that men are unproportional high in the group of **Software Engineers**. They are also the second best payed sector in this dataset. The lowest payed sector are the **Marketing Associate** with a really high proportion of women.\n",
        "*   By removing the two groups with uneven distribution, the pay gap was reduced again.\n",
        "*   We reveal a pay gap in the group of college students.\n",
        "*   The results of our analysis suggest that the pay gap is heavily influenced by the different job preferences chosen by men and women. This could indicate that the gender pay gap is not solely a result of discrimination but also influenced by the choices of the individuals.\n",
        "*   To prove that the pay gap is dependent on the job sector chosen, and that there are more men in higher paying sectors, we may want to investigate the distribution of men and women in different sectors and compare the average pay within each sector with bigger and different datasets.\n",
        "\n",
        "\n",
        "\n",
        "\n",
        "\n"
      ],
      "metadata": {
        "id": "mBAcG-Z9KEfa"
      }
    }
  ]
}