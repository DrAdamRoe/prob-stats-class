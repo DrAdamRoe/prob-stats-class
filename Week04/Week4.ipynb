{
  "nbformat": 4,
  "nbformat_minor": 0,
  "metadata": {
    "colab": {
      "provenance": [],
      "authorship_tag": "ABX9TyNG34J2BAj+/dhPDssgHT1D"
    },
    "kernelspec": {
      "name": "python3",
      "display_name": "Python 3"
    },
    "language_info": {
      "name": "python"
    }
  },
  "cells": [
    {
      "cell_type": "markdown",
      "source": [
        "<div class=\"markdown-google-sans\">\n",
        "\n",
        "## **The number of sexual partners and personality**\n",
        "</div>\n",
        "\n",
        "Although personality has been tested as a predictor of sexual behaviors, little is known about the contribution of personality to the number of sexual partners. This [study](hhttps://data.mendeley.com/datasets/wgr6fhz4zx/1) aimed to examine the models of association between personality traits and the number of sexual partners in various groups of sexual orientation."
      ],
      "metadata": {
        "id": "_btTj02lCyBm"
      }
    },
    {
      "cell_type": "markdown",
      "source": [
        "<div class=\"markdown-google-sans\">\n",
        "\n",
        "## **Packages**\n",
        "</div>\n",
        "\n",
        "We import the needed packages with the following code"
      ],
      "metadata": {
        "id": "CN68Mu5NE1Lr"
      }
    },
    {
      "cell_type": "code",
      "execution_count": 2,
      "metadata": {
        "id": "f8kUGcfX85yc"
      },
      "outputs": [],
      "source": [
        "import numpy as np\n",
        "import pandas as pd\n",
        "import seaborn as sns\n",
        "from matplotlib import pyplot as plt\n",
        "import scipy.stats as stats\n",
        "\n",
        "import warnings\n",
        "warnings.simplefilter(action='ignore', category=FutureWarning)"
      ]
    },
    {
      "cell_type": "markdown",
      "source": [
        "<div class=\"markdown-google-sans\">\n",
        "\n",
        "##**Data import**\n",
        "</div>\n",
        "\n",
        "We import our dataset. This time the dataset is an excel sheet with several \"sub sheets\". We only need the subsheet \"**STATISTICAL DATA**\""
      ],
      "metadata": {
        "id": "YRcQVjFlE6QR"
      }
    },
    {
      "cell_type": "code",
      "source": [
        "df = pd.read_excel('https://prod-dcd-datasets-public-files-eu-west-1.s3.eu-west-1.amazonaws.com/d3d00874-a0b8-473b-b3e9-188fea466716', sheet_name=\"STATISTICAL DATA\")"
      ],
      "metadata": {
        "id": "hl8Te5sG9OqA"
      },
      "execution_count": 3,
      "outputs": []
    },
    {
      "cell_type": "code",
      "source": [
        "df.head()"
      ],
      "metadata": {
        "colab": {
          "base_uri": "https://localhost:8080/",
          "height": 349
        },
        "id": "TlKDAkDy9SCB",
        "outputId": "d095a9b0-054c-45ef-d323-c866bce2e491"
      },
      "execution_count": 4,
      "outputs": [
        {
          "output_type": "execute_result",
          "data": {
            "text/plain": [
              "   No  IPIP_01  IPIP_02  IPIP_03  IPIP_04  IPIP_05  IPIP_06  IPIP_07  IPIP_08  \\\n",
              "0   1        2        4        2        3        4        2        4        2   \n",
              "1   2        3        2        1        4        4        3        4        4   \n",
              "2   3        5        3        1        2        4        5        3        3   \n",
              "3   4        5        5        2        3        5        5        5        3   \n",
              "4   5        2        4        4        2        2        3        5        3   \n",
              "\n",
              "   IPIP_09  ...  Sex  Age  Sexual Orientation  Coming Out  Sexual 1itiation  \\\n",
              "0        1  ...    0   23                   0           0                 1   \n",
              "1        4  ...    0   23                   0           0                 1   \n",
              "2        1  ...    1   24                   0           0                 1   \n",
              "3        2  ...    0   25                   0           0                 1   \n",
              "4        2  ...    0   23                   0           0                 1   \n",
              "\n",
              "   No of Sexual Partners  Unnamed: 46  Unnamed: 47            Variable  \\\n",
              "0                      1          NaN          NaN                 Sex   \n",
              "1                      1          NaN          NaN                 Age   \n",
              "2                      1          NaN          NaN  Sexual Orientation   \n",
              "3                      8          NaN          NaN          Coming Out   \n",
              "4                      1          NaN          NaN    Sexual Iitiation   \n",
              "\n",
              "                                           Coding  \n",
              "0                              Women = 0, Men = 1  \n",
              "1                             Number of years old  \n",
              "2  Heterosexual = 0, Bisexual = 1, Homosexual = 2  \n",
              "3    Hide sexual orientation = 1, Do not hide = 0  \n",
              "4     After initiation = 1, Before initiation = 0  \n",
              "\n",
              "[5 rows x 50 columns]"
            ],
            "text/html": [
              "\n",
              "  <div id=\"df-e6925f28-0283-4dda-9a1d-27f85eacc32e\">\n",
              "    <div class=\"colab-df-container\">\n",
              "      <div>\n",
              "<style scoped>\n",
              "    .dataframe tbody tr th:only-of-type {\n",
              "        vertical-align: middle;\n",
              "    }\n",
              "\n",
              "    .dataframe tbody tr th {\n",
              "        vertical-align: top;\n",
              "    }\n",
              "\n",
              "    .dataframe thead th {\n",
              "        text-align: right;\n",
              "    }\n",
              "</style>\n",
              "<table border=\"1\" class=\"dataframe\">\n",
              "  <thead>\n",
              "    <tr style=\"text-align: right;\">\n",
              "      <th></th>\n",
              "      <th>No</th>\n",
              "      <th>IPIP_01</th>\n",
              "      <th>IPIP_02</th>\n",
              "      <th>IPIP_03</th>\n",
              "      <th>IPIP_04</th>\n",
              "      <th>IPIP_05</th>\n",
              "      <th>IPIP_06</th>\n",
              "      <th>IPIP_07</th>\n",
              "      <th>IPIP_08</th>\n",
              "      <th>IPIP_09</th>\n",
              "      <th>...</th>\n",
              "      <th>Sex</th>\n",
              "      <th>Age</th>\n",
              "      <th>Sexual Orientation</th>\n",
              "      <th>Coming Out</th>\n",
              "      <th>Sexual 1itiation</th>\n",
              "      <th>No of Sexual Partners</th>\n",
              "      <th>Unnamed: 46</th>\n",
              "      <th>Unnamed: 47</th>\n",
              "      <th>Variable</th>\n",
              "      <th>Coding</th>\n",
              "    </tr>\n",
              "  </thead>\n",
              "  <tbody>\n",
              "    <tr>\n",
              "      <th>0</th>\n",
              "      <td>1</td>\n",
              "      <td>2</td>\n",
              "      <td>4</td>\n",
              "      <td>2</td>\n",
              "      <td>3</td>\n",
              "      <td>4</td>\n",
              "      <td>2</td>\n",
              "      <td>4</td>\n",
              "      <td>2</td>\n",
              "      <td>1</td>\n",
              "      <td>...</td>\n",
              "      <td>0</td>\n",
              "      <td>23</td>\n",
              "      <td>0</td>\n",
              "      <td>0</td>\n",
              "      <td>1</td>\n",
              "      <td>1</td>\n",
              "      <td>NaN</td>\n",
              "      <td>NaN</td>\n",
              "      <td>Sex</td>\n",
              "      <td>Women = 0, Men = 1</td>\n",
              "    </tr>\n",
              "    <tr>\n",
              "      <th>1</th>\n",
              "      <td>2</td>\n",
              "      <td>3</td>\n",
              "      <td>2</td>\n",
              "      <td>1</td>\n",
              "      <td>4</td>\n",
              "      <td>4</td>\n",
              "      <td>3</td>\n",
              "      <td>4</td>\n",
              "      <td>4</td>\n",
              "      <td>4</td>\n",
              "      <td>...</td>\n",
              "      <td>0</td>\n",
              "      <td>23</td>\n",
              "      <td>0</td>\n",
              "      <td>0</td>\n",
              "      <td>1</td>\n",
              "      <td>1</td>\n",
              "      <td>NaN</td>\n",
              "      <td>NaN</td>\n",
              "      <td>Age</td>\n",
              "      <td>Number of years old</td>\n",
              "    </tr>\n",
              "    <tr>\n",
              "      <th>2</th>\n",
              "      <td>3</td>\n",
              "      <td>5</td>\n",
              "      <td>3</td>\n",
              "      <td>1</td>\n",
              "      <td>2</td>\n",
              "      <td>4</td>\n",
              "      <td>5</td>\n",
              "      <td>3</td>\n",
              "      <td>3</td>\n",
              "      <td>1</td>\n",
              "      <td>...</td>\n",
              "      <td>1</td>\n",
              "      <td>24</td>\n",
              "      <td>0</td>\n",
              "      <td>0</td>\n",
              "      <td>1</td>\n",
              "      <td>1</td>\n",
              "      <td>NaN</td>\n",
              "      <td>NaN</td>\n",
              "      <td>Sexual Orientation</td>\n",
              "      <td>Heterosexual = 0, Bisexual = 1, Homosexual = 2</td>\n",
              "    </tr>\n",
              "    <tr>\n",
              "      <th>3</th>\n",
              "      <td>4</td>\n",
              "      <td>5</td>\n",
              "      <td>5</td>\n",
              "      <td>2</td>\n",
              "      <td>3</td>\n",
              "      <td>5</td>\n",
              "      <td>5</td>\n",
              "      <td>5</td>\n",
              "      <td>3</td>\n",
              "      <td>2</td>\n",
              "      <td>...</td>\n",
              "      <td>0</td>\n",
              "      <td>25</td>\n",
              "      <td>0</td>\n",
              "      <td>0</td>\n",
              "      <td>1</td>\n",
              "      <td>8</td>\n",
              "      <td>NaN</td>\n",
              "      <td>NaN</td>\n",
              "      <td>Coming Out</td>\n",
              "      <td>Hide sexual orientation = 1, Do not hide = 0</td>\n",
              "    </tr>\n",
              "    <tr>\n",
              "      <th>4</th>\n",
              "      <td>5</td>\n",
              "      <td>2</td>\n",
              "      <td>4</td>\n",
              "      <td>4</td>\n",
              "      <td>2</td>\n",
              "      <td>2</td>\n",
              "      <td>3</td>\n",
              "      <td>5</td>\n",
              "      <td>3</td>\n",
              "      <td>2</td>\n",
              "      <td>...</td>\n",
              "      <td>0</td>\n",
              "      <td>23</td>\n",
              "      <td>0</td>\n",
              "      <td>0</td>\n",
              "      <td>1</td>\n",
              "      <td>1</td>\n",
              "      <td>NaN</td>\n",
              "      <td>NaN</td>\n",
              "      <td>Sexual Iitiation</td>\n",
              "      <td>After initiation = 1, Before initiation = 0</td>\n",
              "    </tr>\n",
              "  </tbody>\n",
              "</table>\n",
              "<p>5 rows × 50 columns</p>\n",
              "</div>\n",
              "      <button class=\"colab-df-convert\" onclick=\"convertToInteractive('df-e6925f28-0283-4dda-9a1d-27f85eacc32e')\"\n",
              "              title=\"Convert this dataframe to an interactive table.\"\n",
              "              style=\"display:none;\">\n",
              "        \n",
              "  <svg xmlns=\"http://www.w3.org/2000/svg\" height=\"24px\"viewBox=\"0 0 24 24\"\n",
              "       width=\"24px\">\n",
              "    <path d=\"M0 0h24v24H0V0z\" fill=\"none\"/>\n",
              "    <path d=\"M18.56 5.44l.94 2.06.94-2.06 2.06-.94-2.06-.94-.94-2.06-.94 2.06-2.06.94zm-11 1L8.5 8.5l.94-2.06 2.06-.94-2.06-.94L8.5 2.5l-.94 2.06-2.06.94zm10 10l.94 2.06.94-2.06 2.06-.94-2.06-.94-.94-2.06-.94 2.06-2.06.94z\"/><path d=\"M17.41 7.96l-1.37-1.37c-.4-.4-.92-.59-1.43-.59-.52 0-1.04.2-1.43.59L10.3 9.45l-7.72 7.72c-.78.78-.78 2.05 0 2.83L4 21.41c.39.39.9.59 1.41.59.51 0 1.02-.2 1.41-.59l7.78-7.78 2.81-2.81c.8-.78.8-2.07 0-2.86zM5.41 20L4 18.59l7.72-7.72 1.47 1.35L5.41 20z\"/>\n",
              "  </svg>\n",
              "      </button>\n",
              "      \n",
              "  <style>\n",
              "    .colab-df-container {\n",
              "      display:flex;\n",
              "      flex-wrap:wrap;\n",
              "      gap: 12px;\n",
              "    }\n",
              "\n",
              "    .colab-df-convert {\n",
              "      background-color: #E8F0FE;\n",
              "      border: none;\n",
              "      border-radius: 50%;\n",
              "      cursor: pointer;\n",
              "      display: none;\n",
              "      fill: #1967D2;\n",
              "      height: 32px;\n",
              "      padding: 0 0 0 0;\n",
              "      width: 32px;\n",
              "    }\n",
              "\n",
              "    .colab-df-convert:hover {\n",
              "      background-color: #E2EBFA;\n",
              "      box-shadow: 0px 1px 2px rgba(60, 64, 67, 0.3), 0px 1px 3px 1px rgba(60, 64, 67, 0.15);\n",
              "      fill: #174EA6;\n",
              "    }\n",
              "\n",
              "    [theme=dark] .colab-df-convert {\n",
              "      background-color: #3B4455;\n",
              "      fill: #D2E3FC;\n",
              "    }\n",
              "\n",
              "    [theme=dark] .colab-df-convert:hover {\n",
              "      background-color: #434B5C;\n",
              "      box-shadow: 0px 1px 3px 1px rgba(0, 0, 0, 0.15);\n",
              "      filter: drop-shadow(0px 1px 2px rgba(0, 0, 0, 0.3));\n",
              "      fill: #FFFFFF;\n",
              "    }\n",
              "  </style>\n",
              "\n",
              "      <script>\n",
              "        const buttonEl =\n",
              "          document.querySelector('#df-e6925f28-0283-4dda-9a1d-27f85eacc32e button.colab-df-convert');\n",
              "        buttonEl.style.display =\n",
              "          google.colab.kernel.accessAllowed ? 'block' : 'none';\n",
              "\n",
              "        async function convertToInteractive(key) {\n",
              "          const element = document.querySelector('#df-e6925f28-0283-4dda-9a1d-27f85eacc32e');\n",
              "          const dataTable =\n",
              "            await google.colab.kernel.invokeFunction('convertToInteractive',\n",
              "                                                     [key], {});\n",
              "          if (!dataTable) return;\n",
              "\n",
              "          const docLinkHtml = 'Like what you see? Visit the ' +\n",
              "            '<a target=\"_blank\" href=https://colab.research.google.com/notebooks/data_table.ipynb>data table notebook</a>'\n",
              "            + ' to learn more about interactive tables.';\n",
              "          element.innerHTML = '';\n",
              "          dataTable['output_type'] = 'display_data';\n",
              "          await google.colab.output.renderOutput(dataTable, element);\n",
              "          const docLink = document.createElement('div');\n",
              "          docLink.innerHTML = docLinkHtml;\n",
              "          element.appendChild(docLink);\n",
              "        }\n",
              "      </script>\n",
              "    </div>\n",
              "  </div>\n",
              "  "
            ]
          },
          "metadata": {},
          "execution_count": 4
        }
      ]
    },
    {
      "cell_type": "markdown",
      "source": [
        "<div class=\"markdown-google-sans\">\n",
        "\n",
        "##**Dataframe cleanup**\n",
        "</div>\n",
        "\n",
        "As this is a large and complex dataset, it would be more efficient to focus on the overall scores of each personality trait, rather than every individual item. To do this, we can create a new dataframe that includes only the necessary variables we need for our calculations."
      ],
      "metadata": {
        "id": "HmYzei_ODrI1"
      }
    },
    {
      "cell_type": "code",
      "source": [
        "df1 = df[['Sex','Age', 'Sexual Orientation', 'Coming Out', 'Sexual 1itiation', \n",
        "          'No of Sexual Partners', 'Sum_SS', 'Extraversion', 'Agreeableness', \n",
        "          'Conscientiousness', 'Emotional Stability', 'Intelligence']]\n",
        "\n",
        "df1.rename(columns={'Coming Out': 'ComingOut', 'Intelligence': 'Openness'}, inplace=True)"
      ],
      "metadata": {
        "colab": {
          "base_uri": "https://localhost:8080/"
        },
        "id": "-0jWx00FAL5m",
        "outputId": "ea332419-ed17-4c98-bf07-58192fba5f1d"
      },
      "execution_count": 5,
      "outputs": [
        {
          "output_type": "stream",
          "name": "stderr",
          "text": [
            "/usr/local/lib/python3.8/dist-packages/pandas/core/frame.py:5039: SettingWithCopyWarning: \n",
            "A value is trying to be set on a copy of a slice from a DataFrame\n",
            "\n",
            "See the caveats in the documentation: https://pandas.pydata.org/pandas-docs/stable/user_guide/indexing.html#returning-a-view-versus-a-copy\n",
            "  return super().rename(\n"
          ]
        }
      ]
    },
    {
      "cell_type": "markdown",
      "source": [
        "Let's important to check for extreme values, as they can have a significant impact on the results. By visually inspecting the raw excel sheet, we may have noticed that there are some very high values for the variable \"Sexual Orientation\" which do not make sense."
      ],
      "metadata": {
        "id": "Jg10LMg6FW-g"
      }
    },
    {
      "cell_type": "code",
      "source": [
        "max_sex_partner = df1['No of Sexual Partners'].max()\n",
        "print(max_sex_partner)\n",
        "print(\"It appears that the authors of the dataset have already cleaned it for extreme values or outliers.\")"
      ],
      "metadata": {
        "colab": {
          "base_uri": "https://localhost:8080/"
        },
        "id": "g5mEUAG49vgU",
        "outputId": "2029e835-d11d-41de-8c9f-f9a62a511e52"
      },
      "execution_count": 6,
      "outputs": [
        {
          "output_type": "stream",
          "name": "stdout",
          "text": [
            "72\n",
            "It appears that the authors of the dataset have already cleaned it for extreme values or outliers.\n"
          ]
        }
      ]
    },
    {
      "cell_type": "markdown",
      "source": [
        "<div class=\"markdown-google-sans\">\n",
        "\n",
        "##**Some descriptive statistics**\n",
        "</div>\n",
        "\n",
        "Let's have a quick look at some basic descriptive statistics. To get a feeling for our dataset. \n",
        "\n",
        "Heterosexual = 0, Bisexual = 1, Homosexual = 2\n",
        "\n",
        "Non-hetereo people have on average more sexual partners."
      ],
      "metadata": {
        "id": "lFnKAdPJHAo9"
      }
    },
    {
      "cell_type": "code",
      "source": [
        "df.groupby(['Sexual Orientation'])['No of Sexual Partners'].describe()"
      ],
      "metadata": {
        "colab": {
          "base_uri": "https://localhost:8080/",
          "height": 175
        },
        "id": "34W1f9u3HXyS",
        "outputId": "372bb61f-ee13-403b-c822-216d17b9ddfd"
      },
      "execution_count": 7,
      "outputs": [
        {
          "output_type": "execute_result",
          "data": {
            "text/plain": [
              "                    count      mean       std  min  25%  50%   75%   max\n",
              "Sexual Orientation                                                      \n",
              "0                   470.0  1.993617  2.812165  0.0  1.0  1.0  2.00  28.0\n",
              "1                   170.0  4.529412  8.559003  0.0  1.0  2.0  4.75  72.0\n",
              "2                   128.0  4.484375  8.319396  0.0  1.0  2.0  5.00  60.0"
            ],
            "text/html": [
              "\n",
              "  <div id=\"df-7d217e22-af37-4d58-83c2-052494b7a73b\">\n",
              "    <div class=\"colab-df-container\">\n",
              "      <div>\n",
              "<style scoped>\n",
              "    .dataframe tbody tr th:only-of-type {\n",
              "        vertical-align: middle;\n",
              "    }\n",
              "\n",
              "    .dataframe tbody tr th {\n",
              "        vertical-align: top;\n",
              "    }\n",
              "\n",
              "    .dataframe thead th {\n",
              "        text-align: right;\n",
              "    }\n",
              "</style>\n",
              "<table border=\"1\" class=\"dataframe\">\n",
              "  <thead>\n",
              "    <tr style=\"text-align: right;\">\n",
              "      <th></th>\n",
              "      <th>count</th>\n",
              "      <th>mean</th>\n",
              "      <th>std</th>\n",
              "      <th>min</th>\n",
              "      <th>25%</th>\n",
              "      <th>50%</th>\n",
              "      <th>75%</th>\n",
              "      <th>max</th>\n",
              "    </tr>\n",
              "    <tr>\n",
              "      <th>Sexual Orientation</th>\n",
              "      <th></th>\n",
              "      <th></th>\n",
              "      <th></th>\n",
              "      <th></th>\n",
              "      <th></th>\n",
              "      <th></th>\n",
              "      <th></th>\n",
              "      <th></th>\n",
              "    </tr>\n",
              "  </thead>\n",
              "  <tbody>\n",
              "    <tr>\n",
              "      <th>0</th>\n",
              "      <td>470.0</td>\n",
              "      <td>1.993617</td>\n",
              "      <td>2.812165</td>\n",
              "      <td>0.0</td>\n",
              "      <td>1.0</td>\n",
              "      <td>1.0</td>\n",
              "      <td>2.00</td>\n",
              "      <td>28.0</td>\n",
              "    </tr>\n",
              "    <tr>\n",
              "      <th>1</th>\n",
              "      <td>170.0</td>\n",
              "      <td>4.529412</td>\n",
              "      <td>8.559003</td>\n",
              "      <td>0.0</td>\n",
              "      <td>1.0</td>\n",
              "      <td>2.0</td>\n",
              "      <td>4.75</td>\n",
              "      <td>72.0</td>\n",
              "    </tr>\n",
              "    <tr>\n",
              "      <th>2</th>\n",
              "      <td>128.0</td>\n",
              "      <td>4.484375</td>\n",
              "      <td>8.319396</td>\n",
              "      <td>0.0</td>\n",
              "      <td>1.0</td>\n",
              "      <td>2.0</td>\n",
              "      <td>5.00</td>\n",
              "      <td>60.0</td>\n",
              "    </tr>\n",
              "  </tbody>\n",
              "</table>\n",
              "</div>\n",
              "      <button class=\"colab-df-convert\" onclick=\"convertToInteractive('df-7d217e22-af37-4d58-83c2-052494b7a73b')\"\n",
              "              title=\"Convert this dataframe to an interactive table.\"\n",
              "              style=\"display:none;\">\n",
              "        \n",
              "  <svg xmlns=\"http://www.w3.org/2000/svg\" height=\"24px\"viewBox=\"0 0 24 24\"\n",
              "       width=\"24px\">\n",
              "    <path d=\"M0 0h24v24H0V0z\" fill=\"none\"/>\n",
              "    <path d=\"M18.56 5.44l.94 2.06.94-2.06 2.06-.94-2.06-.94-.94-2.06-.94 2.06-2.06.94zm-11 1L8.5 8.5l.94-2.06 2.06-.94-2.06-.94L8.5 2.5l-.94 2.06-2.06.94zm10 10l.94 2.06.94-2.06 2.06-.94-2.06-.94-.94-2.06-.94 2.06-2.06.94z\"/><path d=\"M17.41 7.96l-1.37-1.37c-.4-.4-.92-.59-1.43-.59-.52 0-1.04.2-1.43.59L10.3 9.45l-7.72 7.72c-.78.78-.78 2.05 0 2.83L4 21.41c.39.39.9.59 1.41.59.51 0 1.02-.2 1.41-.59l7.78-7.78 2.81-2.81c.8-.78.8-2.07 0-2.86zM5.41 20L4 18.59l7.72-7.72 1.47 1.35L5.41 20z\"/>\n",
              "  </svg>\n",
              "      </button>\n",
              "      \n",
              "  <style>\n",
              "    .colab-df-container {\n",
              "      display:flex;\n",
              "      flex-wrap:wrap;\n",
              "      gap: 12px;\n",
              "    }\n",
              "\n",
              "    .colab-df-convert {\n",
              "      background-color: #E8F0FE;\n",
              "      border: none;\n",
              "      border-radius: 50%;\n",
              "      cursor: pointer;\n",
              "      display: none;\n",
              "      fill: #1967D2;\n",
              "      height: 32px;\n",
              "      padding: 0 0 0 0;\n",
              "      width: 32px;\n",
              "    }\n",
              "\n",
              "    .colab-df-convert:hover {\n",
              "      background-color: #E2EBFA;\n",
              "      box-shadow: 0px 1px 2px rgba(60, 64, 67, 0.3), 0px 1px 3px 1px rgba(60, 64, 67, 0.15);\n",
              "      fill: #174EA6;\n",
              "    }\n",
              "\n",
              "    [theme=dark] .colab-df-convert {\n",
              "      background-color: #3B4455;\n",
              "      fill: #D2E3FC;\n",
              "    }\n",
              "\n",
              "    [theme=dark] .colab-df-convert:hover {\n",
              "      background-color: #434B5C;\n",
              "      box-shadow: 0px 1px 3px 1px rgba(0, 0, 0, 0.15);\n",
              "      filter: drop-shadow(0px 1px 2px rgba(0, 0, 0, 0.3));\n",
              "      fill: #FFFFFF;\n",
              "    }\n",
              "  </style>\n",
              "\n",
              "      <script>\n",
              "        const buttonEl =\n",
              "          document.querySelector('#df-7d217e22-af37-4d58-83c2-052494b7a73b button.colab-df-convert');\n",
              "        buttonEl.style.display =\n",
              "          google.colab.kernel.accessAllowed ? 'block' : 'none';\n",
              "\n",
              "        async function convertToInteractive(key) {\n",
              "          const element = document.querySelector('#df-7d217e22-af37-4d58-83c2-052494b7a73b');\n",
              "          const dataTable =\n",
              "            await google.colab.kernel.invokeFunction('convertToInteractive',\n",
              "                                                     [key], {});\n",
              "          if (!dataTable) return;\n",
              "\n",
              "          const docLinkHtml = 'Like what you see? Visit the ' +\n",
              "            '<a target=\"_blank\" href=https://colab.research.google.com/notebooks/data_table.ipynb>data table notebook</a>'\n",
              "            + ' to learn more about interactive tables.';\n",
              "          element.innerHTML = '';\n",
              "          dataTable['output_type'] = 'display_data';\n",
              "          await google.colab.output.renderOutput(dataTable, element);\n",
              "          const docLink = document.createElement('div');\n",
              "          docLink.innerHTML = docLinkHtml;\n",
              "          element.appendChild(docLink);\n",
              "        }\n",
              "      </script>\n",
              "    </div>\n",
              "  </div>\n",
              "  "
            ]
          },
          "metadata": {},
          "execution_count": 7
        }
      ]
    },
    {
      "cell_type": "markdown",
      "source": [
        "Let's see if there is a gender difference\n",
        "\n",
        "Women = 0, Men = 1\n",
        "\n",
        "We find no difference"
      ],
      "metadata": {
        "id": "B4S_2hZQIO9H"
      }
    },
    {
      "cell_type": "code",
      "source": [
        "df1.groupby('Sex')['No of Sexual Partners'].describe()"
      ],
      "metadata": {
        "colab": {
          "base_uri": "https://localhost:8080/",
          "height": 143
        },
        "id": "UFzT3CKAITJH",
        "outputId": "7737718c-d29c-4024-8427-0224fc3e274a"
      },
      "execution_count": 8,
      "outputs": [
        {
          "output_type": "execute_result",
          "data": {
            "text/plain": [
              "     count      mean       std  min  25%  50%  75%   max\n",
              "Sex                                                     \n",
              "0    468.0  2.944444  4.818895  0.0  1.0  1.0  3.0  50.0\n",
              "1    300.0  3.010000  7.127358  0.0  0.0  1.0  3.0  72.0"
            ],
            "text/html": [
              "\n",
              "  <div id=\"df-e274062e-2e48-4645-bf8d-4f0634811a32\">\n",
              "    <div class=\"colab-df-container\">\n",
              "      <div>\n",
              "<style scoped>\n",
              "    .dataframe tbody tr th:only-of-type {\n",
              "        vertical-align: middle;\n",
              "    }\n",
              "\n",
              "    .dataframe tbody tr th {\n",
              "        vertical-align: top;\n",
              "    }\n",
              "\n",
              "    .dataframe thead th {\n",
              "        text-align: right;\n",
              "    }\n",
              "</style>\n",
              "<table border=\"1\" class=\"dataframe\">\n",
              "  <thead>\n",
              "    <tr style=\"text-align: right;\">\n",
              "      <th></th>\n",
              "      <th>count</th>\n",
              "      <th>mean</th>\n",
              "      <th>std</th>\n",
              "      <th>min</th>\n",
              "      <th>25%</th>\n",
              "      <th>50%</th>\n",
              "      <th>75%</th>\n",
              "      <th>max</th>\n",
              "    </tr>\n",
              "    <tr>\n",
              "      <th>Sex</th>\n",
              "      <th></th>\n",
              "      <th></th>\n",
              "      <th></th>\n",
              "      <th></th>\n",
              "      <th></th>\n",
              "      <th></th>\n",
              "      <th></th>\n",
              "      <th></th>\n",
              "    </tr>\n",
              "  </thead>\n",
              "  <tbody>\n",
              "    <tr>\n",
              "      <th>0</th>\n",
              "      <td>468.0</td>\n",
              "      <td>2.944444</td>\n",
              "      <td>4.818895</td>\n",
              "      <td>0.0</td>\n",
              "      <td>1.0</td>\n",
              "      <td>1.0</td>\n",
              "      <td>3.0</td>\n",
              "      <td>50.0</td>\n",
              "    </tr>\n",
              "    <tr>\n",
              "      <th>1</th>\n",
              "      <td>300.0</td>\n",
              "      <td>3.010000</td>\n",
              "      <td>7.127358</td>\n",
              "      <td>0.0</td>\n",
              "      <td>0.0</td>\n",
              "      <td>1.0</td>\n",
              "      <td>3.0</td>\n",
              "      <td>72.0</td>\n",
              "    </tr>\n",
              "  </tbody>\n",
              "</table>\n",
              "</div>\n",
              "      <button class=\"colab-df-convert\" onclick=\"convertToInteractive('df-e274062e-2e48-4645-bf8d-4f0634811a32')\"\n",
              "              title=\"Convert this dataframe to an interactive table.\"\n",
              "              style=\"display:none;\">\n",
              "        \n",
              "  <svg xmlns=\"http://www.w3.org/2000/svg\" height=\"24px\"viewBox=\"0 0 24 24\"\n",
              "       width=\"24px\">\n",
              "    <path d=\"M0 0h24v24H0V0z\" fill=\"none\"/>\n",
              "    <path d=\"M18.56 5.44l.94 2.06.94-2.06 2.06-.94-2.06-.94-.94-2.06-.94 2.06-2.06.94zm-11 1L8.5 8.5l.94-2.06 2.06-.94-2.06-.94L8.5 2.5l-.94 2.06-2.06.94zm10 10l.94 2.06.94-2.06 2.06-.94-2.06-.94-.94-2.06-.94 2.06-2.06.94z\"/><path d=\"M17.41 7.96l-1.37-1.37c-.4-.4-.92-.59-1.43-.59-.52 0-1.04.2-1.43.59L10.3 9.45l-7.72 7.72c-.78.78-.78 2.05 0 2.83L4 21.41c.39.39.9.59 1.41.59.51 0 1.02-.2 1.41-.59l7.78-7.78 2.81-2.81c.8-.78.8-2.07 0-2.86zM5.41 20L4 18.59l7.72-7.72 1.47 1.35L5.41 20z\"/>\n",
              "  </svg>\n",
              "      </button>\n",
              "      \n",
              "  <style>\n",
              "    .colab-df-container {\n",
              "      display:flex;\n",
              "      flex-wrap:wrap;\n",
              "      gap: 12px;\n",
              "    }\n",
              "\n",
              "    .colab-df-convert {\n",
              "      background-color: #E8F0FE;\n",
              "      border: none;\n",
              "      border-radius: 50%;\n",
              "      cursor: pointer;\n",
              "      display: none;\n",
              "      fill: #1967D2;\n",
              "      height: 32px;\n",
              "      padding: 0 0 0 0;\n",
              "      width: 32px;\n",
              "    }\n",
              "\n",
              "    .colab-df-convert:hover {\n",
              "      background-color: #E2EBFA;\n",
              "      box-shadow: 0px 1px 2px rgba(60, 64, 67, 0.3), 0px 1px 3px 1px rgba(60, 64, 67, 0.15);\n",
              "      fill: #174EA6;\n",
              "    }\n",
              "\n",
              "    [theme=dark] .colab-df-convert {\n",
              "      background-color: #3B4455;\n",
              "      fill: #D2E3FC;\n",
              "    }\n",
              "\n",
              "    [theme=dark] .colab-df-convert:hover {\n",
              "      background-color: #434B5C;\n",
              "      box-shadow: 0px 1px 3px 1px rgba(0, 0, 0, 0.15);\n",
              "      filter: drop-shadow(0px 1px 2px rgba(0, 0, 0, 0.3));\n",
              "      fill: #FFFFFF;\n",
              "    }\n",
              "  </style>\n",
              "\n",
              "      <script>\n",
              "        const buttonEl =\n",
              "          document.querySelector('#df-e274062e-2e48-4645-bf8d-4f0634811a32 button.colab-df-convert');\n",
              "        buttonEl.style.display =\n",
              "          google.colab.kernel.accessAllowed ? 'block' : 'none';\n",
              "\n",
              "        async function convertToInteractive(key) {\n",
              "          const element = document.querySelector('#df-e274062e-2e48-4645-bf8d-4f0634811a32');\n",
              "          const dataTable =\n",
              "            await google.colab.kernel.invokeFunction('convertToInteractive',\n",
              "                                                     [key], {});\n",
              "          if (!dataTable) return;\n",
              "\n",
              "          const docLinkHtml = 'Like what you see? Visit the ' +\n",
              "            '<a target=\"_blank\" href=https://colab.research.google.com/notebooks/data_table.ipynb>data table notebook</a>'\n",
              "            + ' to learn more about interactive tables.';\n",
              "          element.innerHTML = '';\n",
              "          dataTable['output_type'] = 'display_data';\n",
              "          await google.colab.output.renderOutput(dataTable, element);\n",
              "          const docLink = document.createElement('div');\n",
              "          docLink.innerHTML = docLinkHtml;\n",
              "          element.appendChild(docLink);\n",
              "        }\n",
              "      </script>\n",
              "    </div>\n",
              "  </div>\n",
              "  "
            ]
          },
          "metadata": {},
          "execution_count": 8
        }
      ]
    },
    {
      "cell_type": "code",
      "source": [
        "male = df.query('Sex == 1')['No of Sexual Partners']\n",
        "female = df.query('Sex == 0')['No of Sexual Partners']\n",
        "\n",
        "stats.ttest_ind(male, female, equal_var=True)"
      ],
      "metadata": {
        "colab": {
          "base_uri": "https://localhost:8080/"
        },
        "id": "Kubp_iUXRUxE",
        "outputId": "3d42b52a-4d46-4afb-887f-b9b226591773"
      },
      "execution_count": 9,
      "outputs": [
        {
          "output_type": "execute_result",
          "data": {
            "text/plain": [
              "Ttest_indResult(statistic=0.15204086717958262, pvalue=0.8791947384377796)"
            ]
          },
          "metadata": {},
          "execution_count": 9
        }
      ]
    },
    {
      "cell_type": "markdown",
      "source": [
        "Maybe people who don't hide their sexual orientation live more freely?\n",
        "\n",
        "Hide sexual orientation = 1, Do not hide = 0"
      ],
      "metadata": {
        "id": "mXFp9uHiIh-l"
      }
    },
    {
      "cell_type": "code",
      "source": [
        "df.groupby(['Coming Out'])['No of Sexual Partners'].describe()"
      ],
      "metadata": {
        "colab": {
          "base_uri": "https://localhost:8080/",
          "height": 143
        },
        "id": "0o5pPpkKIrMU",
        "outputId": "43088897-5519-4151-ff6d-b5046684af9f"
      },
      "execution_count": 10,
      "outputs": [
        {
          "output_type": "execute_result",
          "data": {
            "text/plain": [
              "            count      mean        std  min  25%  50%  75%   max\n",
              "Coming Out                                                      \n",
              "0           647.0  2.724884   4.391279  0.0  1.0  1.0  3.0  50.0\n",
              "1           121.0  4.280992  10.539784  0.0  0.0  2.0  3.0  72.0"
            ],
            "text/html": [
              "\n",
              "  <div id=\"df-ed82e0a1-bc3f-4635-8c06-41888faef5c4\">\n",
              "    <div class=\"colab-df-container\">\n",
              "      <div>\n",
              "<style scoped>\n",
              "    .dataframe tbody tr th:only-of-type {\n",
              "        vertical-align: middle;\n",
              "    }\n",
              "\n",
              "    .dataframe tbody tr th {\n",
              "        vertical-align: top;\n",
              "    }\n",
              "\n",
              "    .dataframe thead th {\n",
              "        text-align: right;\n",
              "    }\n",
              "</style>\n",
              "<table border=\"1\" class=\"dataframe\">\n",
              "  <thead>\n",
              "    <tr style=\"text-align: right;\">\n",
              "      <th></th>\n",
              "      <th>count</th>\n",
              "      <th>mean</th>\n",
              "      <th>std</th>\n",
              "      <th>min</th>\n",
              "      <th>25%</th>\n",
              "      <th>50%</th>\n",
              "      <th>75%</th>\n",
              "      <th>max</th>\n",
              "    </tr>\n",
              "    <tr>\n",
              "      <th>Coming Out</th>\n",
              "      <th></th>\n",
              "      <th></th>\n",
              "      <th></th>\n",
              "      <th></th>\n",
              "      <th></th>\n",
              "      <th></th>\n",
              "      <th></th>\n",
              "      <th></th>\n",
              "    </tr>\n",
              "  </thead>\n",
              "  <tbody>\n",
              "    <tr>\n",
              "      <th>0</th>\n",
              "      <td>647.0</td>\n",
              "      <td>2.724884</td>\n",
              "      <td>4.391279</td>\n",
              "      <td>0.0</td>\n",
              "      <td>1.0</td>\n",
              "      <td>1.0</td>\n",
              "      <td>3.0</td>\n",
              "      <td>50.0</td>\n",
              "    </tr>\n",
              "    <tr>\n",
              "      <th>1</th>\n",
              "      <td>121.0</td>\n",
              "      <td>4.280992</td>\n",
              "      <td>10.539784</td>\n",
              "      <td>0.0</td>\n",
              "      <td>0.0</td>\n",
              "      <td>2.0</td>\n",
              "      <td>3.0</td>\n",
              "      <td>72.0</td>\n",
              "    </tr>\n",
              "  </tbody>\n",
              "</table>\n",
              "</div>\n",
              "      <button class=\"colab-df-convert\" onclick=\"convertToInteractive('df-ed82e0a1-bc3f-4635-8c06-41888faef5c4')\"\n",
              "              title=\"Convert this dataframe to an interactive table.\"\n",
              "              style=\"display:none;\">\n",
              "        \n",
              "  <svg xmlns=\"http://www.w3.org/2000/svg\" height=\"24px\"viewBox=\"0 0 24 24\"\n",
              "       width=\"24px\">\n",
              "    <path d=\"M0 0h24v24H0V0z\" fill=\"none\"/>\n",
              "    <path d=\"M18.56 5.44l.94 2.06.94-2.06 2.06-.94-2.06-.94-.94-2.06-.94 2.06-2.06.94zm-11 1L8.5 8.5l.94-2.06 2.06-.94-2.06-.94L8.5 2.5l-.94 2.06-2.06.94zm10 10l.94 2.06.94-2.06 2.06-.94-2.06-.94-.94-2.06-.94 2.06-2.06.94z\"/><path d=\"M17.41 7.96l-1.37-1.37c-.4-.4-.92-.59-1.43-.59-.52 0-1.04.2-1.43.59L10.3 9.45l-7.72 7.72c-.78.78-.78 2.05 0 2.83L4 21.41c.39.39.9.59 1.41.59.51 0 1.02-.2 1.41-.59l7.78-7.78 2.81-2.81c.8-.78.8-2.07 0-2.86zM5.41 20L4 18.59l7.72-7.72 1.47 1.35L5.41 20z\"/>\n",
              "  </svg>\n",
              "      </button>\n",
              "      \n",
              "  <style>\n",
              "    .colab-df-container {\n",
              "      display:flex;\n",
              "      flex-wrap:wrap;\n",
              "      gap: 12px;\n",
              "    }\n",
              "\n",
              "    .colab-df-convert {\n",
              "      background-color: #E8F0FE;\n",
              "      border: none;\n",
              "      border-radius: 50%;\n",
              "      cursor: pointer;\n",
              "      display: none;\n",
              "      fill: #1967D2;\n",
              "      height: 32px;\n",
              "      padding: 0 0 0 0;\n",
              "      width: 32px;\n",
              "    }\n",
              "\n",
              "    .colab-df-convert:hover {\n",
              "      background-color: #E2EBFA;\n",
              "      box-shadow: 0px 1px 2px rgba(60, 64, 67, 0.3), 0px 1px 3px 1px rgba(60, 64, 67, 0.15);\n",
              "      fill: #174EA6;\n",
              "    }\n",
              "\n",
              "    [theme=dark] .colab-df-convert {\n",
              "      background-color: #3B4455;\n",
              "      fill: #D2E3FC;\n",
              "    }\n",
              "\n",
              "    [theme=dark] .colab-df-convert:hover {\n",
              "      background-color: #434B5C;\n",
              "      box-shadow: 0px 1px 3px 1px rgba(0, 0, 0, 0.15);\n",
              "      filter: drop-shadow(0px 1px 2px rgba(0, 0, 0, 0.3));\n",
              "      fill: #FFFFFF;\n",
              "    }\n",
              "  </style>\n",
              "\n",
              "      <script>\n",
              "        const buttonEl =\n",
              "          document.querySelector('#df-ed82e0a1-bc3f-4635-8c06-41888faef5c4 button.colab-df-convert');\n",
              "        buttonEl.style.display =\n",
              "          google.colab.kernel.accessAllowed ? 'block' : 'none';\n",
              "\n",
              "        async function convertToInteractive(key) {\n",
              "          const element = document.querySelector('#df-ed82e0a1-bc3f-4635-8c06-41888faef5c4');\n",
              "          const dataTable =\n",
              "            await google.colab.kernel.invokeFunction('convertToInteractive',\n",
              "                                                     [key], {});\n",
              "          if (!dataTable) return;\n",
              "\n",
              "          const docLinkHtml = 'Like what you see? Visit the ' +\n",
              "            '<a target=\"_blank\" href=https://colab.research.google.com/notebooks/data_table.ipynb>data table notebook</a>'\n",
              "            + ' to learn more about interactive tables.';\n",
              "          element.innerHTML = '';\n",
              "          dataTable['output_type'] = 'display_data';\n",
              "          await google.colab.output.renderOutput(dataTable, element);\n",
              "          const docLink = document.createElement('div');\n",
              "          docLink.innerHTML = docLinkHtml;\n",
              "          element.appendChild(docLink);\n",
              "        }\n",
              "      </script>\n",
              "    </div>\n",
              "  </div>\n",
              "  "
            ]
          },
          "metadata": {},
          "execution_count": 10
        }
      ]
    },
    {
      "cell_type": "code",
      "source": [
        "hide = df1.query('ComingOut == 1')['No of Sexual Partners']\n",
        "nhide = df1.query('ComingOut == 0')['No of Sexual Partners']\n",
        "\n",
        "stats.ttest_ind(hide, nhide, equal_var=True)"
      ],
      "metadata": {
        "colab": {
          "base_uri": "https://localhost:8080/"
        },
        "id": "uRwqND1BShgS",
        "outputId": "08b3ad4e-0452-459f-a382-986163e68054"
      },
      "execution_count": 11,
      "outputs": [
        {
          "output_type": "execute_result",
          "data": {
            "text/plain": [
              "Ttest_indResult(statistic=2.707782792648973, pvalue=0.006924455534718604)"
            ]
          },
          "metadata": {},
          "execution_count": 11
        }
      ]
    },
    {
      "cell_type": "markdown",
      "source": [
        "<div class=\"markdown-google-sans\">\n",
        "\n",
        "##**Scatter Plot**\n",
        "</div>\n",
        "\n",
        "\n",
        "A scatter plot is a graphical representation of data points in which each point represents the values of two variables. The position of the point on the plot corresponds to the values of the two variables on the x- and y-axes. Scatter plots are commonly used to visualize the relationship between two variables, such as height and weight or age and income.\n",
        "\n",
        "Correlation lines, also known as regression lines, are often added to scatter plots to show the relationship between the two variables more clearly. A correlation line is a straight line that is drawn through the data points on the scatter plot. The line is fitted to the data using a statistical method called regression analysis, which finds the line that best fits the data.\n",
        "\n",
        "The slope of the correlation line indicates the strength and direction of the relationship between the two variables. If the slope is positive, it means that the two variables are positively correlated, meaning that as one variable increases, the other also tends to increase. If the slope is negative, it means that the two variables are negatively correlated, meaning that as one variable increases, the other tends to decrease."
      ],
      "metadata": {
        "id": "9EgcjuT-eZI5"
      }
    },
    {
      "cell_type": "code",
      "source": [
        "#Method 1\n",
        "var1 = df1['Age']\n",
        "var2 =  df1['No of Sexual Partners']\n",
        "\n",
        "plt.scatter(var1, var2)\n",
        "plt.ylabel(\"No of Sexual Partners\")\n",
        "plt.xlabel(\"Age\")\n",
        "\n",
        "#create the correlation line\n",
        "axes = plt.gca()\n",
        "m, b = np.polyfit(var1, var2, 1)\n",
        "X_plot = np.linspace(axes.get_xlim()[0],axes.get_xlim()[1],100)\n",
        "plt.plot(X_plot, m*X_plot + b, '-')\n",
        "\n",
        "plt.show()\n",
        "\n",
        "#Method 2\n",
        "sns.regplot(var1, var2)"
      ],
      "metadata": {
        "colab": {
          "base_uri": "https://localhost:8080/",
          "height": 558
        },
        "id": "AdWdhQjfeo2p",
        "outputId": "84d2ce71-9814-4152-ce75-431864c0e112"
      },
      "execution_count": 28,
      "outputs": [
        {
          "output_type": "display_data",
          "data": {
            "text/plain": [
              "<Figure size 432x288 with 1 Axes>"
            ],
            "image/png": "[encoded data removed]"
          },
          "metadata": {
            "needs_background": "light"
          }
        },
        {
          "output_type": "execute_result",
          "data": {
            "text/plain": [
              "<AxesSubplot:xlabel='Age', ylabel='No of Sexual Partners'>"
            ]
          },
          "metadata": {},
          "execution_count": 28
        },
        {
          "output_type": "display_data",
          "data": {
            "text/plain": [
              "<Figure size 432x288 with 1 Axes>"
            ],
            "image/png": "[encoded data removed]"
          },
          "metadata": {
            "needs_background": "light"
          }
        }
      ]
    },
    {
      "cell_type": "markdown",
      "source": [
        "<div class=\"markdown-google-sans\">\n",
        "\n",
        "##**Correlation Matrix**\n",
        "</div>\n",
        "\n",
        "Let's create a correlation matrix and try to identify interesting correlations in our dataset.\n",
        "\n",
        "The correlation coefficient, which is a numerical measure of the strength of the relationship between the two variables, is often displayed along with the correlation line. Correlation coefficients range from -1 to 1, with values close to -1 indicating a strong negative correlation, values close to 1 indicating a strong positive correlation, and values close to 0 indicating little or no correlation.\n",
        "\n",
        "To interpret the correlation we have to know what strong and weak correlations are. Take a look at the following table:\n",
        "\n",
        "![image.png](data:image/png;base64,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)"
      ],
      "metadata": {
        "id": "0CNcVK0hTkU9"
      }
    },
    {
      "cell_type": "code",
      "source": [
        "def corr_sig(df=None):\n",
        "    p_matrix = np.zeros(shape=(df.shape[1],df.shape[1]))\n",
        "    for col in df.columns:\n",
        "        for col2 in df.drop(col,axis=1).columns:\n",
        "            _ , p = stats.pearsonr(df[col],df[col2])\n",
        "            p_matrix[df.columns.to_list().index(col),df.columns.to_list().index(col2)] = p\n",
        "    return p_matrix\n",
        "\n",
        "def plot_cor_matrix(corr, mask=None):\n",
        "    f, ax = plt.subplots(figsize=(19, 17))\n",
        "    sns.heatmap(corr, ax=ax,\n",
        "                mask=mask,\n",
        "                annot=True, vmin=-1, vmax=1, center=0,\n",
        "                cmap='bwr', linewidths=2, linecolor='black', cbar_kws={'orientation': 'horizontal'})\n",
        "\n",
        "\n",
        "corr = df1.corr()\n",
        "p_values = corr_sig(df1) \n",
        "mask = np.triu(corr)\n",
        "mask = np.invert(np.tril(p_values<0.05))\n",
        "plot_cor_matrix(corr,mask)\n",
        "plt.show()"
      ],
      "metadata": {
        "colab": {
          "base_uri": "https://localhost:8080/",
          "height": 886
        },
        "id": "EmPJpdZj_3YN",
        "outputId": "e329cb27-2a67-4f6d-8c99-85b52e178442"
      },
      "execution_count": null,
      "outputs": [
        {
          "output_type": "display_data",
          "data": {
            "text/plain": [
              "<Figure size 1368x1224 with 2 Axes>"
            ],
            "image/png": "[encoded data removed]"
          },
          "metadata": {
            "needs_background": "light"
          }
        }
      ]
    },
    {
      "cell_type": "markdown",
      "source": [
        "<div class=\"markdown-google-sans\">\n",
        "\n",
        "## **Task 1**\n",
        "\n",
        "**What big five personality trait correlates the highest with the number of sexual partners? Why could that be?**\n",
        "</div>\n"
      ],
      "metadata": {
        "id": "C6-dnlsyW9Yg"
      }
    },
    {
      "cell_type": "markdown",
      "source": [
        "Spolier: Solution\n",
        "<details>\n",
        "  <summary>View Solution</summary>\n",
        "    Some studies have found that extraversion and openness were positively related to number of sexual partners. However, it's important to note that correlation does not imply causation and there are many factors that could influence the number of sexual partners a person has, such as cultural, societal and individual factors.\n",
        "\n",
        "</details>"
      ],
      "metadata": {
        "id": "Y2k5FkJgZsyv"
      }
    },
    {
      "cell_type": "markdown",
      "source": [
        "<div class=\"markdown-google-sans\">\n",
        "\n",
        "## **Task 2**\n",
        "\n",
        "**Can you spot the spurious correlation?**\n",
        "</div>\n"
      ],
      "metadata": {
        "id": "8y0TXwx5XeSz"
      }
    },
    {
      "cell_type": "markdown",
      "source": [
        "Spolier: Solution\n",
        "<details>\n",
        "  <summary>View Solution</summary>\n",
        "    One spurious correlation could be between Age and No Sexual Partners. <br><br>\n",
        "    A spurious correlation refers to a relationship between two variables that appear to be correlated but are not actually related. However, it's important to keep in mind that correlation does not imply causation and one should be careful when making conclusions about the relationship between two variables. It's necessary to evaluate other factors that could be affecting the correlation, such as confounding variables or measurement errors.\n",
        "\n",
        "</details>"
      ],
      "metadata": {
        "id": "4vydqH7_a-Tr"
      }
    }
  ]
}