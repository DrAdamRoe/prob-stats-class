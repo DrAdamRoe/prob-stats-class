{
  "nbformat": 4,
  "nbformat_minor": 0,
  "metadata": {
    "colab": {
      "provenance": [],
      "authorship_tag": "ABX9TyMHcW2RGDEM/efmrfwDCEC6"
    },
    "kernelspec": {
      "name": "python3",
      "display_name": "Python 3"
    },
    "language_info": {
      "name": "python"
    }
  },
  "cells": [
    {
      "cell_type": "markdown",
      "source": [
        "**Blackjack!**\n"
      ],
      "metadata": {
        "id": "NGiTVOL8_ar_"
      }
    },
    {
      "cell_type": "markdown",
      "source": [
        "Blackjack, also known as twenty-one, is a popular card game played in casinos worldwide. The objective of the game is to beat the dealer by having a hand value closer to 21 without going over. Each player is dealt two cards, and then has the option to \"hit\" (receive another card) or \"stand\" (keep their current hand). Players can also double their bet or split their hand if they receive two cards of the same value. The game requires a combination of skill and luck, making it an exciting and challenging game for players of all levels.\n"
      ],
      "metadata": {
        "id": "LDHZ9shP9B-3"
      }
    },
    {
      "cell_type": "markdown",
      "source": [
        "<div class=\"markdown-google-sans\">\n",
        "\n",
        "## **Import Packages!**\n",
        "</div>\n"
      ],
      "metadata": {
        "id": "8hV7WGd_9PT1"
      }
    },
    {
      "cell_type": "code",
      "execution_count": 2,
      "metadata": {
        "id": "N-08RycU84uf"
      },
      "outputs": [],
      "source": [
        "from collections import namedtuple\n",
        "from itertools import product\n",
        "from random import shuffle\n",
        "from typing import List"
      ]
    },
    {
      "cell_type": "markdown",
      "source": [
        "<div class=\"markdown-google-sans\">\n",
        "\n",
        "## **Creating Classes!**\n",
        "</div>\n",
        "\n",
        "First we define our classes which we need for the game.\n",
        "\n",
        "The Card named tuple is created using the namedtuple function from the collections module. The Card named tuple has two fields, rank and suit, which represent the rank and suit of a playing card, respectively.\n",
        "\n",
        "The Deck class represents a deck of cards for the blackjack game. It has a class variable card_ranks, which is a list of strings representing the ranks of the playing cards, and a class variable card_suits, which is a list of strings representing the suits of the playing cards.\n",
        "\n",
        "In the __init__ method, the Deck class initializes an empty list of cards and calls the refresh_deck method to fill the cards list with all the possible combinations of ranks and suits using the product function from the itertools module.\n",
        "\n",
        "The refresh_deck method creates a list of Card named tuples by iterating over the **Cartesian** product of card_ranks and card_suits using list comprehension.\n",
        "\n",
        "The shuffle method shuffles the list of cards in place using the shuffle function from the random module.\n",
        "\n",
        "The draw_card method removes and returns the last card from the cards list using the pop method. It also returns a Card named tuple representing the rank and suit of the drawn card."
      ],
      "metadata": {
        "id": "PqN2S_hx9mKP"
      }
    },
    {
      "cell_type": "code",
      "source": [
        "Card = namedtuple('Card', ('rank', 'suit'))\n",
        "\n",
        "class Deck:\n",
        "    card_ranks = ['Ace', '2', '3', '4', '5', '6', '7', '8', '9', '10', 'Jack', 'Queen', 'King']\n",
        "    card_suits = ['Hearts', 'Spades', 'Clubs', 'Diamonds']\n",
        "\n",
        "    def __init__(self) -> None:\n",
        "        self.cards = []\n",
        "        self.refresh_deck()\n",
        "\n",
        "    def refresh_deck(self) -> int:\n",
        "        self.cards = [Card(*card) for card in list(product(self.card_ranks, self.card_suits))]\n",
        "\n",
        "    def shuffle(self) -> None:\n",
        "        shuffle(self.cards)\n",
        "\n",
        "    def draw_card(self) -> Card:\n",
        "        return self.cards.pop()"
      ],
      "metadata": {
        "id": "K508MkkG90eP"
      },
      "execution_count": 3,
      "outputs": []
    },
    {
      "cell_type": "markdown",
      "source": [
        "The Hand class represents a hand of playing cards for a player or dealer in the blackjack game. It has three instance variables: cards, value, and aces.\n",
        "\n",
        "In the __init__ method, the Hand class initializes an empty list of cards, sets the initial value of the hand to 0, and sets the initial number of aces to 0.\n",
        "\n",
        "The card_value method takes a Card named tuple as an argument and returns the value of the card according to the rules of blackjack. The method defines a dictionary values that maps each card rank to its value. For non-Ace cards, the value is simply the rank value. For Ace cards, the value is initially set to 11, but it can be reduced to 1 later if needed.\n",
        "\n",
        "The add_card method takes a Card named tuple as an argument and adds it to the cards list. It also updates the value of the hand by adding the value of the new card using the card_value method. If the new card is an Ace, the aces counter is incremented.\n",
        "\n",
        "The adjust_for_ace method adjusts the value of the hand if it contains one or more Aces and the total value of the hand exceeds 21. In this case, each Ace is treated as having a value of 1 instead of 11 by subtracting 10 from the total value of the hand and decrementing the aces counter. This process is repeated until the total value of the hand is less than or equal to 21 or there are no more Aces to adjust."
      ],
      "metadata": {
        "id": "JVWvZ2Hf-Ug-"
      }
    },
    {
      "cell_type": "code",
      "source": [
        "class Hand:\n",
        "    def __init__(self) -> None:\n",
        "        self.cards = []\n",
        "        self.value = 0\n",
        "        self.aces = 0\n",
        "    \n",
        "    def card_value(self, card: Card) -> int:\n",
        "        values = {'2':2, '3':3, '4':4, '5':5, '6':6, '7':7, '8':8, '9':9, '10':10, 'Jack':10,\n",
        "        'Queen':10, 'King':10, 'Ace':11}\n",
        "        return values[card]\n",
        "        \n",
        "    def add_card(self, card: Card) -> None:\n",
        "        self.cards.append(card)\n",
        "        self.value += self.card_value(card[0])\n",
        "        if card[0] == 'Ace':\n",
        "            self.aces += 1\n",
        "    \n",
        "    def adjust_for_ace(self) -> None:\n",
        "        while self.value > 21 and self.aces:\n",
        "            self.value -= 10\n",
        "            self.aces -= 1"
      ],
      "metadata": {
        "id": "0dJK9c3l-X02"
      },
      "execution_count": 4,
      "outputs": []
    },
    {
      "cell_type": "markdown",
      "source": [
        "The Chips class has two instance variables: total and bet. total represents the total amount of chips that the player has, and bet represents the amount of chips that the player has bet in the current hand.\n",
        "\n",
        "The __init__ method initializes the total instance variable to 100 and the bet instance variable to 0.\n",
        "\n",
        "The win_bet method is called when the player wins a hand. It adds the bet amount to the total amount.\n",
        "\n",
        "The lose_bet method is called when the player loses a hand. It subtracts the bet amount from the total amount."
      ],
      "metadata": {
        "id": "yG3v1ETJ_X4y"
      }
    },
    {
      "cell_type": "code",
      "source": [
        "class Chips:\n",
        "    def __init__(self) -> None:\n",
        "        self.total = 100\n",
        "        self.bet = 0\n",
        "\n",
        "    def win_bet(self) -> None:\n",
        "        self.total += self.bet\n",
        "\n",
        "    def lose_bet(self) -> None:\n",
        "        self.total -= self.bet"
      ],
      "metadata": {
        "id": "rxQBprbg_X_V"
      },
      "execution_count": 5,
      "outputs": []
    },
    {
      "cell_type": "markdown",
      "source": [
        "The Game class takes a Deck object as input and uses it to initialize the game. The take_bet method takes a Chips object as input and prompts the player to enter their bet. The hit method takes a Hand object as input and deals a card from the deck to the hand, adjusting the hand's value if it contains an ace. The hit_or_stand method takes a Hand object as input and prompts the player to choose whether to hit or stand. The show_some method takes two Hand objects as input and shows the player one of the dealer's cards and all of the player's cards. The show_all method takes two Hand objects as input and shows all of the dealer's and player's cards and their respective values. The player_busts, player_wins, dealer_busts, dealer_wins, and push methods take two Hand objects and a Chips object as input and print the appropriate message and adjust the player's chips depending on the outcome of the game. Overall, this code provides the main gameplay logic for a blackjack game."
      ],
      "metadata": {
        "id": "KdbHdt-__teA"
      }
    },
    {
      "cell_type": "code",
      "source": [
        "class Game:\n",
        "    def __init__(self, deck: Deck) -> None:\n",
        "        self.deck = deck\n",
        "        self.deck.shuffle()\n",
        "        self.visibile_cards = []\n",
        "\n",
        "    def take_bet(self, chips: Chips):\n",
        "        while True:\n",
        "            try:\n",
        "                bet = int(input('How many chips would you like to bet? '))\n",
        "            except ValueError:\n",
        "                print('Sorry, a bet must be an integer!')\n",
        "            else:\n",
        "                if bet > chips.total:\n",
        "                    print(\"Sorry, your bet can't exceed\",chips.total)\n",
        "                else:\n",
        "                    break\n",
        "        return bet\n",
        "\n",
        "    def hit(self, hand):\n",
        "        hand.add_card(self.deck.draw_card())\n",
        "        hand.adjust_for_ace()\n",
        "    \n",
        "    def hit_or_stand(self, hand):\n",
        "        global playing\n",
        "        while True:\n",
        "            x = input(\"Hit or Stand? Enter 'h' or 's' \")\n",
        "            if x[0].lower() == 'h':\n",
        "                self.hit(hand)\n",
        "            elif x[0].lower() == 's':\n",
        "                print(\"Player stands. Dealer is playing.\")\n",
        "                playing = False\n",
        "            else:\n",
        "                print(\"Sorry, please try again.\")\n",
        "                continue\n",
        "            break\n",
        "    \n",
        "    def show_some(self, player, dealer):\n",
        "        print(\"\\nDealer's Hand:\")\n",
        "        print(\" <card hidden>\")\n",
        "        print(f'{dealer.cards[0][1]} {dealer.cards[0][0]}')\n",
        "        print(\"\\nPlayer's Hand:\", \", \".join([f'{suit} {rank}' for rank, suit in player.cards]), sep='\\n ')\n",
        "    \n",
        "    def show_all(self, player, dealer):\n",
        "        print(\"\\nDealer's Hand:\", \", \".join([f'{suit} {rank}' for rank, suit in dealer.cards]), sep='\\n ')\n",
        "        print(\"Dealer's Hand =\",dealer.value)\n",
        "        print(\"\\nPlayer's Hand:\", \", \".join([f'{suit} {rank}' for rank, suit in player.cards]), sep='\\n ')\n",
        "        print(\"Player's Hand =\",player.value)\n",
        "    \n",
        "    def player_busts(self, player, dealer, chips):\n",
        "        print(\"Player busts!\")\n",
        "        chips.lose_bet()\n",
        "    \n",
        "    def player_wins(self, player, dealer, chips):\n",
        "        print(\"Player wins!\")\n",
        "        chips.win_bet()\n",
        "    \n",
        "    def dealer_busts(self, player, dealer, chips):\n",
        "        print(\"Dealer busts!\")\n",
        "        chips.win_bet()\n",
        "\n",
        "    def dealer_wins(self, player, dealer, chips):\n",
        "        print(\"Dealer wins!\")\n",
        "        chips.lose_bet()\n",
        "    \n",
        "    def push(self, player, dealer):\n",
        "        print(\"Dealer and Player tie! It's a push.\")"
      ],
      "metadata": {
        "id": "SZAm1agq_tlP"
      },
      "execution_count": 6,
      "outputs": []
    },
    {
      "cell_type": "markdown",
      "source": [
        "<div class=\"markdown-google-sans\">\n",
        "\n",
        "## **Gameplay!**\n",
        "</div>"
      ],
      "metadata": {
        "id": "yMLvQEdU__F8"
      }
    },
    {
      "cell_type": "markdown",
      "source": [
        "First, the code defines a Hand class that represents a player's hand in the game. It has attributes for the cards in the hand, the value of the hand, and the number of aces in the hand. It also has methods for calculating the value of a card, adding a card to the hand, and adjusting the value of the hand if an ace is present.\n",
        "\n",
        "The next class defined is Chips, which represents the player's chips. It has attributes for the total number of chips the player has and the amount the player has bet. It also has methods for increasing or decreasing the player's total number of chips based on the outcome of a hand.\n",
        "\n",
        "Finally, the Game class is defined, which represents a game of blackjack. It has attributes for the deck of cards, the visible cards in the game, and the player's chips. It has methods for taking a bet from the player, hitting the player's hand, allowing the player to hit or stand, showing the visible cards in the game, and handling the outcomes of the game.\n",
        "\n",
        "The code creates an instance of the Deck class, an instance of the Game class, and two instances of the Hand class to represent the player's and dealer's hands. It then deals the initial cards and sets up the visible cards and the player's chips.\n",
        "\n",
        "The game loop starts with the player being allowed to hit or stand until they either stand or their hand value exceeds 21. If the player's hand value is below 21, the dealer then hits until their hand value is at least 17. Finally, the outcomes of the game are determined and the player's chips are adjusted accordingly."
      ],
      "metadata": {
        "id": "J2YSzdlKABoR"
      }
    },
    {
      "cell_type": "code",
      "source": [
        "deck = Deck()\n",
        "game = Game(deck)\n",
        "\n",
        "player_hand = Hand()\n",
        "player_hand.add_card(game.deck.draw_card())\n",
        "player_hand.add_card(game.deck.draw_card())\n",
        "game.visibile_cards.extend(player_hand.cards)\n",
        "\n",
        "dealer_hand = Hand()\n",
        "dealer_hand.add_card(game.deck.draw_card())\n",
        "dealer_hand.add_card(game.deck.draw_card())\n",
        "game.visibile_cards.append(dealer_hand.cards[0])\n",
        "\n",
        "player_chips = Chips()\n",
        "game.take_bet(player_chips)\n",
        "\n",
        "game.show_some(player_hand, dealer_hand)\n",
        "\n",
        "global playing\n",
        "playing = True\n",
        "while playing:\n",
        "    game.hit_or_stand(player_hand)\n",
        "    game.show_some(player_hand, dealer_hand)\n",
        "    if player_hand.value > 21:\n",
        "        game.player_busts(player_hand, dealer_hand, player_chips)\n",
        "        break\n",
        "\n",
        "if player_hand.value <= 21:\n",
        "    while dealer_hand.value < 17:\n",
        "        game.hit(dealer_hand)\n",
        "    game.show_all(player_hand, dealer_hand)\n",
        "    if dealer_hand.value > 21:\n",
        "        game.dealer_busts(player_hand, dealer_hand, player_chips)\n",
        "    elif dealer_hand.value > player_hand.value:\n",
        "        game.dealer_wins(player_hand, dealer_hand, player_chips)\n",
        "    elif dealer_hand.value < player_hand.value:\n",
        "        game.player_wins(player_hand, dealer_hand, player_chips)\n",
        "    else:\n",
        "        game.push(player_hand, dealer_hand)"
      ],
      "metadata": {
        "colab": {
          "base_uri": "https://localhost:8080/",
          "height": 382
        },
        "id": "D1zfysUoACI9",
        "outputId": "05e83c0d-4e3d-4a9a-c0cc-f942d6e8ce54"
      },
      "execution_count": 7,
      "outputs": [
        {
          "output_type": "error",
          "ename": "KeyboardInterrupt",
          "evalue": "ignored",
          "traceback": [
            "\u001b[0;31m---------------------------------------------------------------------------\u001b[0m",
            "\u001b[0;31mKeyboardInterrupt\u001b[0m                         Traceback (most recent call last)",
            "\u001b[0;32m<ipython-input-7-57f8f54da848>\u001b[0m in \u001b[0;36m<module>\u001b[0;34m\u001b[0m\n\u001b[1;32m     13\u001b[0m \u001b[0;34m\u001b[0m\u001b[0m\n\u001b[1;32m     14\u001b[0m \u001b[0mplayer_chips\u001b[0m \u001b[0;34m=\u001b[0m \u001b[0mChips\u001b[0m\u001b[0;34m(\u001b[0m\u001b[0;34m)\u001b[0m\u001b[0;34m\u001b[0m\u001b[0;34m\u001b[0m\u001b[0m\n\u001b[0;32m---> 15\u001b[0;31m \u001b[0mgame\u001b[0m\u001b[0;34m.\u001b[0m\u001b[0mtake_bet\u001b[0m\u001b[0;34m(\u001b[0m\u001b[0mplayer_chips\u001b[0m\u001b[0;34m)\u001b[0m\u001b[0;34m\u001b[0m\u001b[0;34m\u001b[0m\u001b[0m\n\u001b[0m\u001b[1;32m     16\u001b[0m \u001b[0;34m\u001b[0m\u001b[0m\n\u001b[1;32m     17\u001b[0m \u001b[0mgame\u001b[0m\u001b[0;34m.\u001b[0m\u001b[0mshow_some\u001b[0m\u001b[0;34m(\u001b[0m\u001b[0mplayer_hand\u001b[0m\u001b[0;34m,\u001b[0m \u001b[0mdealer_hand\u001b[0m\u001b[0;34m)\u001b[0m\u001b[0;34m\u001b[0m\u001b[0;34m\u001b[0m\u001b[0m\n",
            "\u001b[0;32m<ipython-input-6-f1d1d058a465>\u001b[0m in \u001b[0;36mtake_bet\u001b[0;34m(self, chips)\u001b[0m\n\u001b[1;32m      8\u001b[0m         \u001b[0;32mwhile\u001b[0m \u001b[0;32mTrue\u001b[0m\u001b[0;34m:\u001b[0m\u001b[0;34m\u001b[0m\u001b[0;34m\u001b[0m\u001b[0m\n\u001b[1;32m      9\u001b[0m             \u001b[0;32mtry\u001b[0m\u001b[0;34m:\u001b[0m\u001b[0;34m\u001b[0m\u001b[0;34m\u001b[0m\u001b[0m\n\u001b[0;32m---> 10\u001b[0;31m                 \u001b[0mbet\u001b[0m \u001b[0;34m=\u001b[0m \u001b[0mint\u001b[0m\u001b[0;34m(\u001b[0m\u001b[0minput\u001b[0m\u001b[0;34m(\u001b[0m\u001b[0;34m'How many chips would you like to bet? '\u001b[0m\u001b[0;34m)\u001b[0m\u001b[0;34m)\u001b[0m\u001b[0;34m\u001b[0m\u001b[0;34m\u001b[0m\u001b[0m\n\u001b[0m\u001b[1;32m     11\u001b[0m             \u001b[0;32mexcept\u001b[0m \u001b[0mValueError\u001b[0m\u001b[0;34m:\u001b[0m\u001b[0;34m\u001b[0m\u001b[0;34m\u001b[0m\u001b[0m\n\u001b[1;32m     12\u001b[0m                 \u001b[0mprint\u001b[0m\u001b[0;34m(\u001b[0m\u001b[0;34m'Sorry, a bet must be an integer!'\u001b[0m\u001b[0;34m)\u001b[0m\u001b[0;34m\u001b[0m\u001b[0;34m\u001b[0m\u001b[0m\n",
            "\u001b[0;32m/usr/local/lib/python3.9/dist-packages/ipykernel/kernelbase.py\u001b[0m in \u001b[0;36mraw_input\u001b[0;34m(self, prompt)\u001b[0m\n\u001b[1;32m    858\u001b[0m                 \u001b[0;34m\"raw_input was called, but this frontend does not support input requests.\"\u001b[0m\u001b[0;34m\u001b[0m\u001b[0;34m\u001b[0m\u001b[0m\n\u001b[1;32m    859\u001b[0m             )\n\u001b[0;32m--> 860\u001b[0;31m         return self._input_request(str(prompt),\n\u001b[0m\u001b[1;32m    861\u001b[0m             \u001b[0mself\u001b[0m\u001b[0;34m.\u001b[0m\u001b[0m_parent_ident\u001b[0m\u001b[0;34m,\u001b[0m\u001b[0;34m\u001b[0m\u001b[0;34m\u001b[0m\u001b[0m\n\u001b[1;32m    862\u001b[0m             \u001b[0mself\u001b[0m\u001b[0;34m.\u001b[0m\u001b[0m_parent_header\u001b[0m\u001b[0;34m,\u001b[0m\u001b[0;34m\u001b[0m\u001b[0;34m\u001b[0m\u001b[0m\n",
            "\u001b[0;32m/usr/local/lib/python3.9/dist-packages/ipykernel/kernelbase.py\u001b[0m in \u001b[0;36m_input_request\u001b[0;34m(self, prompt, ident, parent, password)\u001b[0m\n\u001b[1;32m    902\u001b[0m             \u001b[0;32mexcept\u001b[0m \u001b[0mKeyboardInterrupt\u001b[0m\u001b[0;34m:\u001b[0m\u001b[0;34m\u001b[0m\u001b[0;34m\u001b[0m\u001b[0m\n\u001b[1;32m    903\u001b[0m                 \u001b[0;31m# re-raise KeyboardInterrupt, to truncate traceback\u001b[0m\u001b[0;34m\u001b[0m\u001b[0;34m\u001b[0m\u001b[0m\n\u001b[0;32m--> 904\u001b[0;31m                 \u001b[0;32mraise\u001b[0m \u001b[0mKeyboardInterrupt\u001b[0m\u001b[0;34m(\u001b[0m\u001b[0;34m\"Interrupted by user\"\u001b[0m\u001b[0;34m)\u001b[0m \u001b[0;32mfrom\u001b[0m \u001b[0;32mNone\u001b[0m\u001b[0;34m\u001b[0m\u001b[0;34m\u001b[0m\u001b[0m\n\u001b[0m\u001b[1;32m    905\u001b[0m             \u001b[0;32mexcept\u001b[0m \u001b[0mException\u001b[0m \u001b[0;32mas\u001b[0m \u001b[0me\u001b[0m\u001b[0;34m:\u001b[0m\u001b[0;34m\u001b[0m\u001b[0;34m\u001b[0m\u001b[0m\n\u001b[1;32m    906\u001b[0m                 \u001b[0mself\u001b[0m\u001b[0;34m.\u001b[0m\u001b[0mlog\u001b[0m\u001b[0;34m.\u001b[0m\u001b[0mwarning\u001b[0m\u001b[0;34m(\u001b[0m\u001b[0;34m\"Invalid Message:\"\u001b[0m\u001b[0;34m,\u001b[0m \u001b[0mexc_info\u001b[0m\u001b[0;34m=\u001b[0m\u001b[0;32mTrue\u001b[0m\u001b[0;34m)\u001b[0m\u001b[0;34m\u001b[0m\u001b[0;34m\u001b[0m\u001b[0m\n",
            "\u001b[0;31mKeyboardInterrupt\u001b[0m: Interrupted by user"
          ]
        }
      ]
    },
    {
      "cell_type": "markdown",
      "source": [
        "<div class=\"markdown-google-sans\">\n",
        "\n",
        "## **Probabilities!**\n",
        "</div>\n",
        "\n",
        "Blackjack probabilities are an essential aspect of the game, allowing players to calculate their odds of winning based on the cards they are dealt. One of the key factors in blackjack probability is the number of decks being used, as this affects the chances of drawing specific cards. Understanding the probability of getting a blackjack, busting, or hitting a specific hand value is crucial for making informed decisions during gameplay, such as whether to hit, stand, or double down. By taking the time to learn and apply basic blackjack probability strategies, players can increase their chances of winning and make the most of their time at the table.\n"
      ],
      "metadata": {
        "id": "LNodao0FAbWL"
      }
    },
    {
      "cell_type": "markdown",
      "source": [
        "The total number of combinations for the cards in blackjack are 52*51/2 = 1326. If we would care about the order of the two cards, the number of combinations would be 2652"
      ],
      "metadata": {
        "id": "zxir4YMoAjvG"
      }
    },
    {
      "cell_type": "markdown",
      "source": [
        "The probability of getting a blackjack in the beginning if the card game is: (4/52)*(16/51)/2 = 1.20663%\n",
        "\n",
        "The probability of getting 20 points in the beginning if the card game is: (4/52)*(4/51)/2 + (16/52)*(15/51)/2 = 4.82655%\n",
        "\n",
        "The probability of getting 19 points in the beginning if the card game is: (4/52)*(4/51)/2 + (16/52)*(4/51)/2 = 1.5083%\n",
        "\n",
        "The probability of getting 18 points in the beginning if the card game is: (4/52)*(4/51)/2 + (16/52)*(4/51)/2 = 1.5083%"
      ],
      "metadata": {
        "id": "SEa-IxdLAmLB"
      }
    },
    {
      "cell_type": "markdown",
      "source": [
        "Let's create a function which calculates the probability to get a good hand in the next move"
      ],
      "metadata": {
        "id": "PzxiPlQ6AwiX"
      }
    },
    {
      "cell_type": "code",
      "source": [
        "def calculate_probablity(player_hand, visible_cards, deck):\n",
        "    values = {'2':2, '3':3, '4':4, '5':5, '6':6, '7':7, '8':8, '9':9, '10':10, 'Jack':10, 'Queen':10, 'King':10, 'Ace':11}\n",
        "    deck = [card for card in deck.cards if card not in visible_cards]\n",
        "    probablity17 = 0\n",
        "    probablity18 = 0\n",
        "    probablity19 = 0\n",
        "    probablity20 = 0\n",
        "    probablity21 = 0\n",
        "    probablitybust = 0\n",
        "    for card in deck:\n",
        "        if player_hand.value + values[card[0]] == 17:\n",
        "            probablity17 += 1/len(deck)\n",
        "        elif player_hand.value + values[card[0]] == 19:\n",
        "            probablity19 += 1/len(deck)\n",
        "        elif player_hand.value + values[card[0]] == 19:\n",
        "            probablity19 += 1/len(deck)\n",
        "        elif player_hand.value + values[card[0]] == 20:\n",
        "            probablity20 += 1/len(deck)\n",
        "        elif player_hand.value + values[card[0]] == 21:\n",
        "            probablity21 += 1/len(deck)\n",
        "        elif player_hand.value + values[card[0]] > 21:\n",
        "            probablitybust += 1/len(deck)\n",
        "    print(f'Probablity of getting 17: {round(probablity17*100, 4)}%')\n",
        "    print(f'Probablity of getting 18: {round(probablity18*100, 4)}%')\n",
        "    print(f'Probablity of getting 19: {round(probablity19*100, 4)}%')\n",
        "    print(f'Probablity of getting 20: {round(probablity20*100, 4)}%')\n",
        "    print(f'Probablity of getting 21: {round(probablity21*100, 4)}%')\n",
        "    print(f'Probablity of getting busted: {round(probablitybust*100, 4)}%')\n",
        "\n",
        "deck = Deck()\n",
        "calculate_probablity(player_hand, game.visibile_cards, deck)"
      ],
      "metadata": {
        "id": "Ea_7N3udBfPb",
        "outputId": "2c98c330-a909-47e4-8016-292c2ac23add",
        "colab": {
          "base_uri": "https://localhost:8080/"
        }
      },
      "execution_count": null,
      "outputs": [
        {
          "output_type": "stream",
          "name": "stdout",
          "text": [
            "Probablity of getting 17: 0%\n",
            "Probablity of getting 18: 0%\n",
            "Probablity of getting 19: 6.1224%\n",
            "Probablity of getting 20: 8.1633%\n",
            "Probablity of getting 21: 8.1633%\n",
            "Probablity of getting busted: 69.3878%\n"
          ]
        }
      ]
    },
    {
      "cell_type": "markdown",
      "source": [
        "Let's create a simulation and calculate the likelihood of the dealer busts depending on their first card."
      ],
      "metadata": {
        "id": "DzEXZ7PRffDB"
      }
    },
    {
      "cell_type": "code",
      "source": [
        "import numpy as np\n",
        "import pandas as pd\n",
        "\n",
        "values = {'2':2, '3':3, '4':4, '5':5, '6':6, '7':7, '8':8, '9':9, '10':10, 'Jack':10, 'Queen':10, 'King':10, 'Ace':11}\n",
        "array_1 = list(values.keys())\n",
        "array_2 = [0, 17, 18, 19, 20, 21]\n",
        "\n",
        "array = np.zeros([len(array_1), len(array_2)], dtype=float)\n",
        "\n",
        "for i in range(300000):\n",
        "  deck = Deck()\n",
        "  deck.shuffle()\n",
        "  dealer_hand = Hand()\n",
        "  dealer_hand.add_card(deck.draw_card())\n",
        "  dealer_hand.add_card(deck.draw_card())\n",
        "  inital_card_value = dealer_hand.cards[0][0]\n",
        "\n",
        "  while dealer_hand.value < 17:\n",
        "      dealer_hand.add_card(deck.draw_card())\n",
        "      dealer_hand.adjust_for_ace()\n",
        "  final_value = dealer_hand.value\n",
        "  if final_value > 21:\n",
        "    final_value = 0\n",
        "\n",
        "  y = array_2.index(final_value)\n",
        "  x = array_1.index(inital_card_value)\n",
        "\n",
        "  array[x][y] += 1\n",
        "\n",
        "percentages = array.sum(axis=1)\n",
        "for i, row in enumerate(np.copy(array)):\n",
        "  for j, cell in enumerate(row):\n",
        "    cell = cell/percentages[i] * 100\n",
        "    array[i][j] = cell\n",
        "\n",
        "df = pd.DataFrame(array, columns=array_2, index=array_1)\n",
        "print(df)"
      ],
      "metadata": {
        "colab": {
          "base_uri": "https://localhost:8080/"
        },
        "id": "Sd8Ye_hl9e-Q",
        "outputId": "a32912f4-54aa-409e-8aeb-a82bf862e6cf"
      },
      "execution_count": 81,
      "outputs": [
        {
          "output_type": "stream",
          "name": "stdout",
          "text": [
            "              0          17         18         19         20         21\n",
            "2      34.865515  13.863984  13.111743  13.234201  12.796851  12.127706\n",
            "3      37.940933  13.096429  12.674525  12.139533  12.113436  12.035144\n",
            "4      39.832231  13.045358  11.631426  12.254075  11.726553  11.510356\n",
            "5      42.739310  11.786412  12.463642  11.816801  10.627306  10.566529\n",
            "6      42.357664  16.834290  10.752363  10.394095  10.104891   9.556697\n",
            "7      26.068045  36.744186  14.108527   7.661499   8.006029   7.411714\n",
            "8      24.344163  12.751911  35.875608  13.346942   6.797255   6.884121\n",
            "9      23.967945  12.436647  10.318389  35.737492  11.604938   5.934590\n",
            "10     21.631129  11.681939  11.265037  11.577713  32.644287  11.199896\n",
            "Jack   21.522979  11.489288  11.070318  11.567035  32.718556  11.631824\n",
            "Queen  21.606053  11.396269  10.992176  11.477947  33.191471  11.336085\n",
            "King   21.237015  11.400878  11.231364  11.444343  33.137741  11.548659\n",
            "Ace    15.543884  11.941141  11.962844  12.175536  12.370866  36.005730\n"
          ]
        }
      ]
    },
    {
      "cell_type": "markdown",
      "source": [
        "From the table and the simulation above we can see that if the dealer has a face up card of an Jack the likelihood of getting bust during the game is 21.5%"
      ],
      "metadata": {
        "id": "bOwB5tiZgCZM"
      }
    }
  ]
}